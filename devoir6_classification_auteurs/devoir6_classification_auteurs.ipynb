{
 "cells": [
  {
   "cell_type": "code",
   "execution_count": 88,
   "metadata": {
    "colab": {
     "base_uri": "https://localhost:8080/",
     "height": 88
    },
    "executionInfo": {
     "elapsed": 2479,
     "status": "ok",
     "timestamp": 1604717921945,
     "user": {
      "displayName": "Bassirou Ndao",
      "photoUrl": "",
      "userId": "02888319539859274497"
     },
     "user_tz": 300
    },
    "id": "xhZklD7cX3Hw",
    "outputId": "823ed5c3-fc87-44c3-a9cb-21871346f0ed"
   },
   "outputs": [
    {
     "name": "stdout",
     "output_type": "stream",
     "text": [
      "The autoreload extension is already loaded. To reload it, use:\n",
      "  %reload_ext autoreload\n",
      "Mounted at /content/drive/\n"
     ]
    },
    {
     "data": {
      "application/vnd.google.colaboratory.intrinsic+json": {
       "type": "string"
      },
      "text/plain": [
       "'/content/drive/My Drive/IFT6285-devoir6'"
      ]
     },
     "execution_count": 88,
     "metadata": {
      "tags": []
     },
     "output_type": "execute_result"
    }
   ],
   "source": [
    "%load_ext autoreload\n",
    "%autoreload 2\n",
    "\n",
    "from IPython.core.interactiveshell import InteractiveShell\n",
    "InteractiveShell.ast_node_interactivity = \"all\"\n",
    "\n",
    "from google.colab import drive\n",
    "import os\n",
    "drive.mount('/content/drive/', force_remount = True)\n",
    "ROOT_PATH=\"/content/drive/My Drive/IFT6285-devoir6/\"\n",
    "IMAGES_PATH = ROOT_PATH\n",
    "os.chdir(ROOT_PATH)\n",
    "os.getcwd()"
   ]
  },
  {
   "cell_type": "code",
   "execution_count": 89,
   "metadata": {
    "executionInfo": {
     "elapsed": 403,
     "status": "ok",
     "timestamp": 1604717923390,
     "user": {
      "displayName": "Bassirou Ndao",
      "photoUrl": "",
      "userId": "02888319539859274497"
     },
     "user_tz": 300
    },
    "id": "g4fYR3em3eCl"
   },
   "outputs": [],
   "source": [
    "list_of_cases = os.listdir(\"./data\")\n",
    "# list_of_cases =  ['blog-50-50-10', 'blog-50-100-10', 'blog-100-10-10', 'blog-100-50-10', 'blog-100-100-10', 'blog-quiz']"
   ]
  },
  {
   "cell_type": "code",
   "execution_count": 50,
   "metadata": {
    "colab": {
     "base_uri": "https://localhost:8080/"
    },
    "executionInfo": {
     "elapsed": 350,
     "status": "ok",
     "timestamp": 1604693685911,
     "user": {
      "displayName": "Bassirou Ndao",
      "photoUrl": "",
      "userId": "02888319539859274497"
     },
     "user_tz": 300
    },
    "id": "fbR8767_XntR",
    "outputId": "3f3e95a1-512c-4799-c43f-b7fba3560c94"
   },
   "outputs": [
    {
     "name": "stdout",
     "output_type": "stream",
     "text": [
      "{}\n",
      "{}\n"
     ]
    }
   ],
   "source": [
    "from sklearn.externals import joblib\n",
    "# train_set_name = \"C:/Users/Euge/Documents/Session1-Maitrise/devoir6/blog-10-10-10/train.csv\"\n",
    "# testopen_set_name = \"C:/Users/Euge/Documents/Session1-Maitrise/devoir6/blog-10-10-10/test-open.csv\"\n",
    "# testclose_set_name = \"C:/Users/Euge/Documents/Session1-Maitrise/devoir6/blog-10-10-10/test-closed.csv\"\n",
    "train_set_name = \"./data/blog-10-10-10/train.csv\"\n",
    "testopen_set_name = \"./data/blog-10-10-10/test-open.csv\"\n",
    "testclose_set_name = \"./data/blog-10-10-10/test-closed.csv\"\n",
    "\n",
    "result_folder = './result/'\n",
    "result_folder = './result/bkp/'\n",
    "\n",
    "train_accuracy_score = {}\n",
    "testopen_accuracy_score = {}\n",
    "# train_accuracy_score = joblib.load(result_folder + 'train_accuracy_score.pkl', mmap_mode=None)\n",
    "# testopen_accuracy_score = joblib.load(result_folder + 'testopen_accuracy_score.pkl', mmap_mode=None)\n",
    "\n",
    "print(train_accuracy_score)\n",
    "print(testopen_accuracy_score)"
   ]
  },
  {
   "cell_type": "markdown",
   "metadata": {
    "id": "qiFrKa5h-IEi"
   },
   "source": [
    "# Les paramètres"
   ]
  },
  {
   "cell_type": "code",
   "execution_count": 94,
   "metadata": {
    "colab": {
     "base_uri": "https://localhost:8080/"
    },
    "executionInfo": {
     "elapsed": 282,
     "status": "ok",
     "timestamp": 1604718320706,
     "user": {
      "displayName": "Bassirou Ndao",
      "photoUrl": "",
      "userId": "02888319539859274497"
     },
     "user_tz": 300
    },
    "id": "q_3sTFKKfyQZ",
    "outputId": "dc89e3a9-ef49-4607-ff25-3dfeb61a2db8"
   },
   "outputs": [
    {
     "name": "stdout",
     "output_type": "stream",
     "text": [
      "{'ComplementNB': {'vect__max_features': [1000, 2000, 3000, 4000], 'model__alpha': [0.1, 0.01, 1]}}\n"
     ]
    }
   ],
   "source": [
    "from sklearn.naive_bayes import MultinomialNB\n",
    "from sklearn.feature_extraction.text import TfidfVectorizer\n",
    "from sklearn.neural_network import MLPClassifier\n",
    "from xgboost import XGBClassifier\n",
    "\n",
    "models = []\n",
    "params = {}\n",
    "vectorizer = TfidfVectorizer\n",
    "\n",
    "#------------------------------------------------------------------\n",
    "#----------------------------MultinomialNB-------------------------\n",
    "#------------------------------------------------------------------\n",
    "\n",
    "model = ComplementNB\n",
    "models.append(model)\n",
    "param = {\n",
    "'vect__max_features': [1000,2000,3000,4000],\n",
    "'model__alpha':  [0.1, 0.01, 1],\n",
    "    }\n",
    "params[model.__name__] = param\n",
    "\n",
    "#------------------------------------------------------------------\n",
    "#----------------------------MLP-----------------------------------\n",
    "#------------------------------------------------------------------\n",
    "# model = MLPClassifier\n",
    "# models.append(model)\n",
    "# param = {\n",
    "# 'vect__max_features': [1000, 4000],\n",
    "# 'model__hidden_layer_sizes':  [(50,50)],\n",
    "# 'model__solver':  ['adam'],\n",
    "# 'model__learning_rate' : ['constant'], \n",
    "# 'model__learning_rate_init' :  [0.001, 0.01,0.1],\n",
    "# 'model__max_iter' : [2000],\n",
    "#     }\n",
    "# params[model.__name__] = param\n",
    "\n",
    "#------------------------------------------------------------------\n",
    "#----------------------------Xgboost-------------------------------\n",
    "#------------------------------------------------------------------\n",
    "\n",
    "# model = XGBClassifier\n",
    "# models.append(model)\n",
    "# # param = {\n",
    "# #         'vect__max_features': [1000, 4000],\n",
    "# #         'model__learning_rate'    : [0.01, 0.3],\n",
    "# #         'model__min_child_weight': [1, 5],\n",
    "# #         'model__subsample': [0.6, 1.0],\n",
    "# #         'model__colsample_bytree': [0.3, 1.0],\n",
    "# #         'model__max_depth': [3, 6, 10],\n",
    "# #         'model__objective': ['multi:softmax'],\n",
    "# #         'model__n_estimators': [100],\n",
    "# #         'model__eval_metric': ['logloss'],\n",
    "# # }\n",
    "# param = {\n",
    "#         'vect__max_features': [4000],\n",
    "#         'model__learning_rate'    : [0.01],\n",
    "#         'model__min_child_weight': [1],\n",
    "#         'model__subsample': [0.6],\n",
    "#         'model__colsample_bytree': [0.3],\n",
    "#         'model__max_depth': [10],\n",
    "#         'model__objective': ['multi:softmax'],\n",
    "#         'model__n_estimators': [100],\n",
    "#         'model__eval_metric': ['logloss'],\n",
    "# }\n",
    "# params[model.__name__] = param\n",
    "\n",
    "\n",
    "#------------------------------------------------------------------\n",
    "#----------------------------Logistic Regression-------------------\n",
    "#------------------------------------------------------------------\n",
    "\n",
    "# model = LogisticRegression\n",
    "# models.append(model)\n",
    "# param = {\n",
    "#         'vect__max_features': [1000, 4000],\n",
    "#         'model__max_iter': [1000],\n",
    "# }\n",
    "\n",
    "# params[model.__name__] = param\n",
    "\n",
    "\n",
    "print(params)"
   ]
  },
  {
   "cell_type": "markdown",
   "metadata": {
    "id": "jqoRWRTv-OD2"
   },
   "source": [
    "# GridSearch"
   ]
  },
  {
   "cell_type": "code",
   "execution_count": 56,
   "metadata": {
    "colab": {
     "base_uri": "https://localhost:8080/"
    },
    "executionInfo": {
     "elapsed": 14606786,
     "status": "ok",
     "timestamp": 1604708533226,
     "user": {
      "displayName": "Bassirou Ndao",
      "photoUrl": "",
      "userId": "02888319539859274497"
     },
     "user_tz": 300
    },
    "id": "ZoQSpjGZ4IWI",
    "outputId": "26e06417-a828-4567-87e2-24c38aefe7fb"
   },
   "outputs": [
    {
     "name": "stdout",
     "output_type": "stream",
     "text": [
      "-------------------------- Case:blog-10-10-10 --------------------------------\n",
      "Now loading data and spliting\n",
      "./data/blog-10-10-10/train.csv\n"
     ]
    },
    {
     "name": "stderr",
     "output_type": "stream",
     "text": [
      "/usr/local/lib/python3.6/dist-packages/pandas/core/indexing.py:670: SettingWithCopyWarning: \n",
      "A value is trying to be set on a copy of a slice from a DataFrame\n",
      "\n",
      "See the caveats in the documentation: https://pandas.pydata.org/pandas-docs/stable/user_guide/indexing.html#returning-a-view-versus-a-copy\n",
      "  iloc._setitem_with_indexer(indexer, value)\n"
     ]
    },
    {
     "name": "stdout",
     "output_type": "stream",
     "text": [
      "Now training the model : ComplementNB\n",
      "Fitting 10 folds for each of 32 candidates, totalling 320 fits\n"
     ]
    },
    {
     "name": "stderr",
     "output_type": "stream",
     "text": [
      "/usr/local/lib/python3.6/dist-packages/sklearn/model_selection/_split.py:667: UserWarning: The least populated class in y has only 9 members, which is less than n_splits=10.\n",
      "  % (min_groups, self.n_splits)), UserWarning)\n",
      "[Parallel(n_jobs=-1)]: Using backend LokyBackend with 2 concurrent workers.\n",
      "[Parallel(n_jobs=-1)]: Done   1 tasks      | elapsed:    1.3s\n",
      "[Parallel(n_jobs=-1)]: Done   4 tasks      | elapsed:    1.4s\n",
      "[Parallel(n_jobs=-1)]: Done   9 tasks      | elapsed:    1.6s\n",
      "[Parallel(n_jobs=-1)]: Done  14 tasks      | elapsed:    1.7s\n",
      "[Parallel(n_jobs=-1)]: Batch computation too fast (0.1906s.) Setting batch_size=2.\n",
      "[Parallel(n_jobs=-1)]: Done  22 tasks      | elapsed:    1.9s\n",
      "[Parallel(n_jobs=-1)]: Batch computation too fast (0.1666s.) Setting batch_size=4.\n",
      "[Parallel(n_jobs=-1)]: Done  44 tasks      | elapsed:    2.5s\n",
      "[Parallel(n_jobs=-1)]: Done  80 tasks      | elapsed:    3.5s\n",
      "[Parallel(n_jobs=-1)]: Done 116 tasks      | elapsed:    4.3s\n",
      "[Parallel(n_jobs=-1)]: Done 160 tasks      | elapsed:    5.4s\n",
      "[Parallel(n_jobs=-1)]: Done 204 tasks      | elapsed:    6.5s\n",
      "[Parallel(n_jobs=-1)]: Done 256 tasks      | elapsed:    7.8s\n",
      "[Parallel(n_jobs=-1)]: Done 308 tasks      | elapsed:    9.0s\n",
      "[Parallel(n_jobs=-1)]: Done 320 out of 320 | elapsed:    9.3s finished\n"
     ]
    },
    {
     "data": {
      "text/plain": [
       "{'model__alpha': 0.1, 'vect__max_features': 2000, 'vect__use_idf': True}"
      ]
     },
     "execution_count": 56,
     "metadata": {
      "tags": []
     },
     "output_type": "execute_result"
    },
    {
     "data": {
      "text/plain": [
       "['./result/ComplementNB_blog-10-10-10_gs.pkl']"
      ]
     },
     "execution_count": 56,
     "metadata": {
      "tags": []
     },
     "output_type": "execute_result"
    },
    {
     "data": {
      "text/plain": [
       "['./result/train_accuracy_score.pkl']"
      ]
     },
     "execution_count": 56,
     "metadata": {
      "tags": []
     },
     "output_type": "execute_result"
    },
    {
     "data": {
      "text/plain": [
       "['./result/testopen_accuracy_score.pkl']"
      ]
     },
     "execution_count": 56,
     "metadata": {
      "tags": []
     },
     "output_type": "execute_result"
    },
    {
     "name": "stdout",
     "output_type": "stream",
     "text": [
      "{'ComplementNB_blog-10-10-10': 0.9797979797979798}\n",
      "{'ComplementNB_blog-10-10-10': 0.7474747474747475}\n",
      "Now training the model : MLPClassifier\n",
      "Fitting 10 folds for each of 12 candidates, totalling 120 fits\n"
     ]
    },
    {
     "name": "stderr",
     "output_type": "stream",
     "text": [
      "/usr/local/lib/python3.6/dist-packages/sklearn/model_selection/_split.py:667: UserWarning: The least populated class in y has only 9 members, which is less than n_splits=10.\n",
      "  % (min_groups, self.n_splits)), UserWarning)\n",
      "[Parallel(n_jobs=-1)]: Using backend LokyBackend with 2 concurrent workers.\n",
      "[Parallel(n_jobs=-1)]: Done   1 tasks      | elapsed:    1.8s\n",
      "[Parallel(n_jobs=-1)]: Done   4 tasks      | elapsed:    4.1s\n",
      "[Parallel(n_jobs=-1)]: Done   9 tasks      | elapsed:    9.0s\n",
      "[Parallel(n_jobs=-1)]: Done  14 tasks      | elapsed:   13.8s\n",
      "[Parallel(n_jobs=-1)]: Done  21 tasks      | elapsed:   21.3s\n",
      "[Parallel(n_jobs=-1)]: Done  28 tasks      | elapsed:   33.0s\n",
      "[Parallel(n_jobs=-1)]: Done  37 tasks      | elapsed:   46.3s\n",
      "[Parallel(n_jobs=-1)]: Done  46 tasks      | elapsed:   52.4s\n",
      "[Parallel(n_jobs=-1)]: Done  57 tasks      | elapsed:   54.9s\n",
      "[Parallel(n_jobs=-1)]: Done  68 tasks      | elapsed:   58.4s\n",
      "[Parallel(n_jobs=-1)]: Done  81 tasks      | elapsed:  1.0min\n",
      "[Parallel(n_jobs=-1)]: Done  94 tasks      | elapsed:  1.1min\n",
      "[Parallel(n_jobs=-1)]: Done 109 tasks      | elapsed:  1.1min\n",
      "[Parallel(n_jobs=-1)]: Done 120 out of 120 | elapsed:  1.1min finished\n"
     ]
    },
    {
     "data": {
      "text/plain": [
       "{'model__hidden_layer_sizes': (50, 50),\n",
       " 'model__learning_rate': 'constant',\n",
       " 'model__learning_rate_init': 0.001,\n",
       " 'model__max_iter': 2000,\n",
       " 'model__solver': 'adam',\n",
       " 'vect__max_features': 4000,\n",
       " 'vect__use_idf': True}"
      ]
     },
     "execution_count": 56,
     "metadata": {
      "tags": []
     },
     "output_type": "execute_result"
    },
    {
     "data": {
      "text/plain": [
       "['./result/MLPClassifier_blog-10-10-10_gs.pkl']"
      ]
     },
     "execution_count": 56,
     "metadata": {
      "tags": []
     },
     "output_type": "execute_result"
    },
    {
     "data": {
      "text/plain": [
       "['./result/train_accuracy_score.pkl']"
      ]
     },
     "execution_count": 56,
     "metadata": {
      "tags": []
     },
     "output_type": "execute_result"
    },
    {
     "data": {
      "text/plain": [
       "['./result/testopen_accuracy_score.pkl']"
      ]
     },
     "execution_count": 56,
     "metadata": {
      "tags": []
     },
     "output_type": "execute_result"
    },
    {
     "name": "stdout",
     "output_type": "stream",
     "text": [
      "{'ComplementNB_blog-10-10-10': 0.9797979797979798, 'MLPClassifier_blog-10-10-10': 0.98989898989899}\n",
      "{'ComplementNB_blog-10-10-10': 0.7474747474747475, 'MLPClassifier_blog-10-10-10': 0.6262626262626263}\n",
      "-------------------------- Case:blog-10-50-10 --------------------------------\n",
      "Now loading data and spliting\n",
      "./data/blog-10-50-10/train.csv\n"
     ]
    },
    {
     "name": "stderr",
     "output_type": "stream",
     "text": [
      "/usr/local/lib/python3.6/dist-packages/pandas/core/indexing.py:670: SettingWithCopyWarning: \n",
      "A value is trying to be set on a copy of a slice from a DataFrame\n",
      "\n",
      "See the caveats in the documentation: https://pandas.pydata.org/pandas-docs/stable/user_guide/indexing.html#returning-a-view-versus-a-copy\n",
      "  iloc._setitem_with_indexer(indexer, value)\n"
     ]
    },
    {
     "name": "stdout",
     "output_type": "stream",
     "text": [
      "Now training the model : ComplementNB\n",
      "Fitting 10 folds for each of 32 candidates, totalling 320 fits\n"
     ]
    },
    {
     "name": "stderr",
     "output_type": "stream",
     "text": [
      "[Parallel(n_jobs=-1)]: Using backend LokyBackend with 2 concurrent workers.\n",
      "[Parallel(n_jobs=-1)]: Done   1 tasks      | elapsed:    0.2s\n",
      "[Parallel(n_jobs=-1)]: Batch computation too fast (0.1483s.) Setting batch_size=2.\n",
      "[Parallel(n_jobs=-1)]: Done   4 tasks      | elapsed:    0.3s\n",
      "[Parallel(n_jobs=-1)]: Done  14 tasks      | elapsed:    1.1s\n",
      "[Parallel(n_jobs=-1)]: Done  24 tasks      | elapsed:    1.7s\n",
      "[Parallel(n_jobs=-1)]: Done  38 tasks      | elapsed:    2.8s\n",
      "[Parallel(n_jobs=-1)]: Done  52 tasks      | elapsed:    3.8s\n",
      "[Parallel(n_jobs=-1)]: Done  70 tasks      | elapsed:    5.2s\n",
      "[Parallel(n_jobs=-1)]: Done  88 tasks      | elapsed:    6.4s\n",
      "[Parallel(n_jobs=-1)]: Done 110 tasks      | elapsed:    8.1s\n",
      "[Parallel(n_jobs=-1)]: Done 132 tasks      | elapsed:    9.6s\n",
      "[Parallel(n_jobs=-1)]: Done 158 tasks      | elapsed:   11.5s\n",
      "[Parallel(n_jobs=-1)]: Done 184 tasks      | elapsed:   13.3s\n",
      "[Parallel(n_jobs=-1)]: Done 214 tasks      | elapsed:   15.4s\n",
      "[Parallel(n_jobs=-1)]: Done 244 tasks      | elapsed:   17.5s\n",
      "[Parallel(n_jobs=-1)]: Done 278 tasks      | elapsed:   19.9s\n",
      "[Parallel(n_jobs=-1)]: Done 312 tasks      | elapsed:   22.3s\n",
      "[Parallel(n_jobs=-1)]: Done 320 out of 320 | elapsed:   22.8s finished\n"
     ]
    },
    {
     "data": {
      "text/plain": [
       "{'model__alpha': 0.1, 'vect__max_features': 3000, 'vect__use_idf': False}"
      ]
     },
     "execution_count": 56,
     "metadata": {
      "tags": []
     },
     "output_type": "execute_result"
    },
    {
     "data": {
      "text/plain": [
       "['./result/ComplementNB_blog-10-50-10_gs.pkl']"
      ]
     },
     "execution_count": 56,
     "metadata": {
      "tags": []
     },
     "output_type": "execute_result"
    },
    {
     "data": {
      "text/plain": [
       "['./result/train_accuracy_score.pkl']"
      ]
     },
     "execution_count": 56,
     "metadata": {
      "tags": []
     },
     "output_type": "execute_result"
    },
    {
     "data": {
      "text/plain": [
       "['./result/testopen_accuracy_score.pkl']"
      ]
     },
     "execution_count": 56,
     "metadata": {
      "tags": []
     },
     "output_type": "execute_result"
    },
    {
     "name": "stdout",
     "output_type": "stream",
     "text": [
      "{'ComplementNB_blog-10-10-10': 0.9797979797979798, 'MLPClassifier_blog-10-10-10': 0.98989898989899, 'ComplementNB_blog-10-50-10': 0.9879759519038076}\n",
      "{'ComplementNB_blog-10-10-10': 0.7474747474747475, 'MLPClassifier_blog-10-10-10': 0.6262626262626263, 'ComplementNB_blog-10-50-10': 0.696969696969697}\n",
      "Now training the model : MLPClassifier\n",
      "Fitting 10 folds for each of 12 candidates, totalling 120 fits\n"
     ]
    },
    {
     "name": "stderr",
     "output_type": "stream",
     "text": [
      "[Parallel(n_jobs=-1)]: Using backend LokyBackend with 2 concurrent workers.\n",
      "[Parallel(n_jobs=-1)]: Done   1 tasks      | elapsed:    5.1s\n",
      "[Parallel(n_jobs=-1)]: Done   4 tasks      | elapsed:   10.2s\n",
      "[Parallel(n_jobs=-1)]: Done   9 tasks      | elapsed:   25.7s\n",
      "[Parallel(n_jobs=-1)]: Done  14 tasks      | elapsed:   37.4s\n",
      "[Parallel(n_jobs=-1)]: Done  21 tasks      | elapsed:   59.9s\n",
      "[Parallel(n_jobs=-1)]: Done  28 tasks      | elapsed:  1.3min\n",
      "[Parallel(n_jobs=-1)]: Done  37 tasks      | elapsed:  1.9min\n",
      "[Parallel(n_jobs=-1)]: Done  46 tasks      | elapsed:  2.1min\n",
      "[Parallel(n_jobs=-1)]: Done  57 tasks      | elapsed:  2.2min\n",
      "[Parallel(n_jobs=-1)]: Done  68 tasks      | elapsed:  2.4min\n",
      "[Parallel(n_jobs=-1)]: Done  81 tasks      | elapsed:  2.5min\n",
      "[Parallel(n_jobs=-1)]: Done  94 tasks      | elapsed:  2.6min\n",
      "[Parallel(n_jobs=-1)]: Done 109 tasks      | elapsed:  2.9min\n",
      "[Parallel(n_jobs=-1)]: Done 120 out of 120 | elapsed:  3.1min finished\n"
     ]
    },
    {
     "data": {
      "text/plain": [
       "{'model__hidden_layer_sizes': (50, 50),\n",
       " 'model__learning_rate': 'constant',\n",
       " 'model__learning_rate_init': 0.001,\n",
       " 'model__max_iter': 2000,\n",
       " 'model__solver': 'adam',\n",
       " 'vect__max_features': 4000,\n",
       " 'vect__use_idf': True}"
      ]
     },
     "execution_count": 56,
     "metadata": {
      "tags": []
     },
     "output_type": "execute_result"
    },
    {
     "data": {
      "text/plain": [
       "['./result/MLPClassifier_blog-10-50-10_gs.pkl']"
      ]
     },
     "execution_count": 56,
     "metadata": {
      "tags": []
     },
     "output_type": "execute_result"
    },
    {
     "data": {
      "text/plain": [
       "['./result/train_accuracy_score.pkl']"
      ]
     },
     "execution_count": 56,
     "metadata": {
      "tags": []
     },
     "output_type": "execute_result"
    },
    {
     "data": {
      "text/plain": [
       "['./result/testopen_accuracy_score.pkl']"
      ]
     },
     "execution_count": 56,
     "metadata": {
      "tags": []
     },
     "output_type": "execute_result"
    },
    {
     "name": "stdout",
     "output_type": "stream",
     "text": [
      "{'ComplementNB_blog-10-10-10': 0.9797979797979798, 'MLPClassifier_blog-10-10-10': 0.98989898989899, 'ComplementNB_blog-10-50-10': 0.9879759519038076, 'MLPClassifier_blog-10-50-10': 1.0}\n",
      "{'ComplementNB_blog-10-10-10': 0.7474747474747475, 'MLPClassifier_blog-10-10-10': 0.6262626262626263, 'ComplementNB_blog-10-50-10': 0.696969696969697, 'MLPClassifier_blog-10-50-10': 0.6363636363636364}\n",
      "-------------------------- Case:blog-10-100-10 --------------------------------\n",
      "Now loading data and spliting\n",
      "./data/blog-10-100-10/train.csv\n"
     ]
    },
    {
     "name": "stderr",
     "output_type": "stream",
     "text": [
      "/usr/local/lib/python3.6/dist-packages/pandas/core/indexing.py:670: SettingWithCopyWarning: \n",
      "A value is trying to be set on a copy of a slice from a DataFrame\n",
      "\n",
      "See the caveats in the documentation: https://pandas.pydata.org/pandas-docs/stable/user_guide/indexing.html#returning-a-view-versus-a-copy\n",
      "  iloc._setitem_with_indexer(indexer, value)\n"
     ]
    },
    {
     "name": "stdout",
     "output_type": "stream",
     "text": [
      "Now training the model : ComplementNB\n",
      "Fitting 10 folds for each of 32 candidates, totalling 320 fits\n"
     ]
    },
    {
     "name": "stderr",
     "output_type": "stream",
     "text": [
      "[Parallel(n_jobs=-1)]: Using backend LokyBackend with 2 concurrent workers.\n",
      "[Parallel(n_jobs=-1)]: Done   1 tasks      | elapsed:    0.3s\n",
      "[Parallel(n_jobs=-1)]: Done   4 tasks      | elapsed:    0.6s\n",
      "[Parallel(n_jobs=-1)]: Done   9 tasks      | elapsed:    1.4s\n",
      "[Parallel(n_jobs=-1)]: Done  14 tasks      | elapsed:    1.9s\n",
      "[Parallel(n_jobs=-1)]: Done  21 tasks      | elapsed:    3.0s\n",
      "[Parallel(n_jobs=-1)]: Done  28 tasks      | elapsed:    3.8s\n",
      "[Parallel(n_jobs=-1)]: Done  37 tasks      | elapsed:    5.1s\n",
      "[Parallel(n_jobs=-1)]: Done  46 tasks      | elapsed:    6.4s\n",
      "[Parallel(n_jobs=-1)]: Done  57 tasks      | elapsed:    8.0s\n",
      "[Parallel(n_jobs=-1)]: Done  68 tasks      | elapsed:    9.4s\n",
      "[Parallel(n_jobs=-1)]: Done  81 tasks      | elapsed:   11.3s\n",
      "[Parallel(n_jobs=-1)]: Done  94 tasks      | elapsed:   13.0s\n",
      "[Parallel(n_jobs=-1)]: Done 109 tasks      | elapsed:   15.0s\n",
      "[Parallel(n_jobs=-1)]: Done 124 tasks      | elapsed:   17.1s\n",
      "[Parallel(n_jobs=-1)]: Done 141 tasks      | elapsed:   19.3s\n",
      "[Parallel(n_jobs=-1)]: Done 158 tasks      | elapsed:   21.5s\n",
      "[Parallel(n_jobs=-1)]: Done 177 tasks      | elapsed:   24.2s\n",
      "[Parallel(n_jobs=-1)]: Done 196 tasks      | elapsed:   26.7s\n",
      "[Parallel(n_jobs=-1)]: Done 217 tasks      | elapsed:   29.6s\n",
      "[Parallel(n_jobs=-1)]: Done 238 tasks      | elapsed:   32.4s\n",
      "[Parallel(n_jobs=-1)]: Done 261 tasks      | elapsed:   35.4s\n",
      "[Parallel(n_jobs=-1)]: Done 284 tasks      | elapsed:   38.5s\n",
      "[Parallel(n_jobs=-1)]: Done 309 tasks      | elapsed:   42.0s\n",
      "[Parallel(n_jobs=-1)]: Done 320 out of 320 | elapsed:   43.4s finished\n"
     ]
    },
    {
     "data": {
      "text/plain": [
       "{'model__alpha': 0.1, 'vect__max_features': 4000, 'vect__use_idf': False}"
      ]
     },
     "execution_count": 56,
     "metadata": {
      "tags": []
     },
     "output_type": "execute_result"
    },
    {
     "data": {
      "text/plain": [
       "['./result/ComplementNB_blog-10-100-10_gs.pkl']"
      ]
     },
     "execution_count": 56,
     "metadata": {
      "tags": []
     },
     "output_type": "execute_result"
    },
    {
     "data": {
      "text/plain": [
       "['./result/train_accuracy_score.pkl']"
      ]
     },
     "execution_count": 56,
     "metadata": {
      "tags": []
     },
     "output_type": "execute_result"
    },
    {
     "data": {
      "text/plain": [
       "['./result/testopen_accuracy_score.pkl']"
      ]
     },
     "execution_count": 56,
     "metadata": {
      "tags": []
     },
     "output_type": "execute_result"
    },
    {
     "name": "stdout",
     "output_type": "stream",
     "text": [
      "{'ComplementNB_blog-10-10-10': 0.9797979797979798, 'MLPClassifier_blog-10-10-10': 0.98989898989899, 'ComplementNB_blog-10-50-10': 0.9879759519038076, 'MLPClassifier_blog-10-50-10': 1.0, 'ComplementNB_blog-10-100-10': 0.97997997997998}\n",
      "{'ComplementNB_blog-10-10-10': 0.7474747474747475, 'MLPClassifier_blog-10-10-10': 0.6262626262626263, 'ComplementNB_blog-10-50-10': 0.696969696969697, 'MLPClassifier_blog-10-50-10': 0.6363636363636364, 'ComplementNB_blog-10-100-10': 0.7777777777777778}\n",
      "Now training the model : MLPClassifier\n",
      "Fitting 10 folds for each of 12 candidates, totalling 120 fits\n"
     ]
    },
    {
     "name": "stderr",
     "output_type": "stream",
     "text": [
      "[Parallel(n_jobs=-1)]: Using backend LokyBackend with 2 concurrent workers.\n",
      "[Parallel(n_jobs=-1)]: Done   1 tasks      | elapsed:    6.1s\n",
      "[Parallel(n_jobs=-1)]: Done   4 tasks      | elapsed:   13.7s\n",
      "[Parallel(n_jobs=-1)]: Done   9 tasks      | elapsed:   31.5s\n",
      "[Parallel(n_jobs=-1)]: Done  14 tasks      | elapsed:   46.3s\n",
      "[Parallel(n_jobs=-1)]: Done  21 tasks      | elapsed:  1.3min\n",
      "[Parallel(n_jobs=-1)]: Done  28 tasks      | elapsed:  1.7min\n",
      "[Parallel(n_jobs=-1)]: Done  37 tasks      | elapsed:  2.5min\n",
      "[Parallel(n_jobs=-1)]: Done  46 tasks      | elapsed:  2.7min\n",
      "[Parallel(n_jobs=-1)]: Done  57 tasks      | elapsed:  2.9min\n",
      "[Parallel(n_jobs=-1)]: Done  68 tasks      | elapsed:  3.1min\n",
      "[Parallel(n_jobs=-1)]: Done  81 tasks      | elapsed:  3.4min\n",
      "[Parallel(n_jobs=-1)]: Done  94 tasks      | elapsed:  3.7min\n",
      "[Parallel(n_jobs=-1)]: Done 109 tasks      | elapsed:  4.4min\n",
      "[Parallel(n_jobs=-1)]: Done 120 out of 120 | elapsed:  5.2min finished\n"
     ]
    },
    {
     "data": {
      "text/plain": [
       "{'model__hidden_layer_sizes': (50, 50),\n",
       " 'model__learning_rate': 'constant',\n",
       " 'model__learning_rate_init': 0.001,\n",
       " 'model__max_iter': 2000,\n",
       " 'model__solver': 'adam',\n",
       " 'vect__max_features': 4000,\n",
       " 'vect__use_idf': True}"
      ]
     },
     "execution_count": 56,
     "metadata": {
      "tags": []
     },
     "output_type": "execute_result"
    },
    {
     "data": {
      "text/plain": [
       "['./result/MLPClassifier_blog-10-100-10_gs.pkl']"
      ]
     },
     "execution_count": 56,
     "metadata": {
      "tags": []
     },
     "output_type": "execute_result"
    },
    {
     "data": {
      "text/plain": [
       "['./result/train_accuracy_score.pkl']"
      ]
     },
     "execution_count": 56,
     "metadata": {
      "tags": []
     },
     "output_type": "execute_result"
    },
    {
     "data": {
      "text/plain": [
       "['./result/testopen_accuracy_score.pkl']"
      ]
     },
     "execution_count": 56,
     "metadata": {
      "tags": []
     },
     "output_type": "execute_result"
    },
    {
     "name": "stdout",
     "output_type": "stream",
     "text": [
      "{'ComplementNB_blog-10-10-10': 0.9797979797979798, 'MLPClassifier_blog-10-10-10': 0.98989898989899, 'ComplementNB_blog-10-50-10': 0.9879759519038076, 'MLPClassifier_blog-10-50-10': 1.0, 'ComplementNB_blog-10-100-10': 0.97997997997998, 'MLPClassifier_blog-10-100-10': 0.998998998998999}\n",
      "{'ComplementNB_blog-10-10-10': 0.7474747474747475, 'MLPClassifier_blog-10-10-10': 0.6262626262626263, 'ComplementNB_blog-10-50-10': 0.696969696969697, 'MLPClassifier_blog-10-50-10': 0.6363636363636364, 'ComplementNB_blog-10-100-10': 0.7777777777777778, 'MLPClassifier_blog-10-100-10': 0.7575757575757576}\n",
      "-------------------------- Case:blog-50-10-10 --------------------------------\n",
      "Now loading data and spliting\n",
      "./data/blog-50-10-10/train.csv\n"
     ]
    },
    {
     "name": "stderr",
     "output_type": "stream",
     "text": [
      "/usr/local/lib/python3.6/dist-packages/pandas/core/indexing.py:670: SettingWithCopyWarning: \n",
      "A value is trying to be set on a copy of a slice from a DataFrame\n",
      "\n",
      "See the caveats in the documentation: https://pandas.pydata.org/pandas-docs/stable/user_guide/indexing.html#returning-a-view-versus-a-copy\n",
      "  iloc._setitem_with_indexer(indexer, value)\n"
     ]
    },
    {
     "name": "stdout",
     "output_type": "stream",
     "text": [
      "Now training the model : ComplementNB\n",
      "Fitting 10 folds for each of 32 candidates, totalling 320 fits\n"
     ]
    },
    {
     "name": "stderr",
     "output_type": "stream",
     "text": [
      "/usr/local/lib/python3.6/dist-packages/sklearn/model_selection/_split.py:667: UserWarning: The least populated class in y has only 9 members, which is less than n_splits=10.\n",
      "  % (min_groups, self.n_splits)), UserWarning)\n",
      "[Parallel(n_jobs=-1)]: Using backend LokyBackend with 2 concurrent workers.\n",
      "[Parallel(n_jobs=-1)]: Done   1 tasks      | elapsed:    0.2s\n",
      "[Parallel(n_jobs=-1)]: Batch computation too fast (0.1803s.) Setting batch_size=2.\n",
      "[Parallel(n_jobs=-1)]: Done   4 tasks      | elapsed:    0.4s\n",
      "[Parallel(n_jobs=-1)]: Done  14 tasks      | elapsed:    1.5s\n",
      "[Parallel(n_jobs=-1)]: Done  24 tasks      | elapsed:    2.3s\n",
      "[Parallel(n_jobs=-1)]: Done  38 tasks      | elapsed:    3.8s\n",
      "[Parallel(n_jobs=-1)]: Done  52 tasks      | elapsed:    5.0s\n",
      "[Parallel(n_jobs=-1)]: Done  70 tasks      | elapsed:    7.1s\n",
      "[Parallel(n_jobs=-1)]: Done  88 tasks      | elapsed:    8.6s\n",
      "[Parallel(n_jobs=-1)]: Done 110 tasks      | elapsed:   10.9s\n",
      "[Parallel(n_jobs=-1)]: Done 132 tasks      | elapsed:   12.9s\n",
      "[Parallel(n_jobs=-1)]: Done 158 tasks      | elapsed:   15.7s\n",
      "[Parallel(n_jobs=-1)]: Done 184 tasks      | elapsed:   18.0s\n",
      "[Parallel(n_jobs=-1)]: Done 214 tasks      | elapsed:   21.0s\n",
      "[Parallel(n_jobs=-1)]: Done 244 tasks      | elapsed:   23.9s\n",
      "[Parallel(n_jobs=-1)]: Done 278 tasks      | elapsed:   27.3s\n",
      "[Parallel(n_jobs=-1)]: Done 312 tasks      | elapsed:   30.5s\n",
      "[Parallel(n_jobs=-1)]: Done 320 out of 320 | elapsed:   31.3s finished\n"
     ]
    },
    {
     "data": {
      "text/plain": [
       "{'model__alpha': 0.1, 'vect__max_features': 4000, 'vect__use_idf': False}"
      ]
     },
     "execution_count": 56,
     "metadata": {
      "tags": []
     },
     "output_type": "execute_result"
    },
    {
     "data": {
      "text/plain": [
       "['./result/ComplementNB_blog-50-10-10_gs.pkl']"
      ]
     },
     "execution_count": 56,
     "metadata": {
      "tags": []
     },
     "output_type": "execute_result"
    },
    {
     "data": {
      "text/plain": [
       "['./result/train_accuracy_score.pkl']"
      ]
     },
     "execution_count": 56,
     "metadata": {
      "tags": []
     },
     "output_type": "execute_result"
    },
    {
     "data": {
      "text/plain": [
       "['./result/testopen_accuracy_score.pkl']"
      ]
     },
     "execution_count": 56,
     "metadata": {
      "tags": []
     },
     "output_type": "execute_result"
    },
    {
     "name": "stdout",
     "output_type": "stream",
     "text": [
      "{'ComplementNB_blog-10-10-10': 0.9797979797979798, 'MLPClassifier_blog-10-10-10': 0.98989898989899, 'ComplementNB_blog-10-50-10': 0.9879759519038076, 'MLPClassifier_blog-10-50-10': 1.0, 'ComplementNB_blog-10-100-10': 0.97997997997998, 'MLPClassifier_blog-10-100-10': 0.998998998998999, 'ComplementNB_blog-50-10-10': 0.9859719438877755}\n",
      "{'ComplementNB_blog-10-10-10': 0.7474747474747475, 'MLPClassifier_blog-10-10-10': 0.6262626262626263, 'ComplementNB_blog-10-50-10': 0.696969696969697, 'MLPClassifier_blog-10-50-10': 0.6363636363636364, 'ComplementNB_blog-10-100-10': 0.7777777777777778, 'MLPClassifier_blog-10-100-10': 0.7575757575757576, 'ComplementNB_blog-50-10-10': 0.5531062124248497}\n",
      "Now training the model : MLPClassifier\n",
      "Fitting 10 folds for each of 12 candidates, totalling 120 fits\n"
     ]
    },
    {
     "name": "stderr",
     "output_type": "stream",
     "text": [
      "/usr/local/lib/python3.6/dist-packages/sklearn/model_selection/_split.py:667: UserWarning: The least populated class in y has only 9 members, which is less than n_splits=10.\n",
      "  % (min_groups, self.n_splits)), UserWarning)\n",
      "[Parallel(n_jobs=-1)]: Using backend LokyBackend with 2 concurrent workers.\n",
      "[Parallel(n_jobs=-1)]: Done   1 tasks      | elapsed:    8.1s\n",
      "[Parallel(n_jobs=-1)]: Done   4 tasks      | elapsed:   18.7s\n",
      "[Parallel(n_jobs=-1)]: Done   9 tasks      | elapsed:   42.2s\n",
      "[Parallel(n_jobs=-1)]: Done  14 tasks      | elapsed:  1.1min\n",
      "[Parallel(n_jobs=-1)]: Done  21 tasks      | elapsed:  1.7min\n",
      "[Parallel(n_jobs=-1)]: Done  28 tasks      | elapsed:  2.5min\n",
      "[Parallel(n_jobs=-1)]: Done  37 tasks      | elapsed:  3.5min\n",
      "[Parallel(n_jobs=-1)]: Done  46 tasks      | elapsed:  3.9min\n",
      "[Parallel(n_jobs=-1)]: Done  57 tasks      | elapsed:  4.1min\n",
      "[Parallel(n_jobs=-1)]: Done  68 tasks      | elapsed:  4.3min\n",
      "[Parallel(n_jobs=-1)]: Done  81 tasks      | elapsed:  4.6min\n",
      "[Parallel(n_jobs=-1)]: Done  94 tasks      | elapsed:  4.7min\n",
      "[Parallel(n_jobs=-1)]: Done 109 tasks      | elapsed:  5.0min\n",
      "[Parallel(n_jobs=-1)]: Done 120 out of 120 | elapsed:  5.4min finished\n"
     ]
    },
    {
     "data": {
      "text/plain": [
       "{'model__hidden_layer_sizes': (50, 50),\n",
       " 'model__learning_rate': 'constant',\n",
       " 'model__learning_rate_init': 0.001,\n",
       " 'model__max_iter': 2000,\n",
       " 'model__solver': 'adam',\n",
       " 'vect__max_features': 4000,\n",
       " 'vect__use_idf': False}"
      ]
     },
     "execution_count": 56,
     "metadata": {
      "tags": []
     },
     "output_type": "execute_result"
    },
    {
     "data": {
      "text/plain": [
       "['./result/MLPClassifier_blog-50-10-10_gs.pkl']"
      ]
     },
     "execution_count": 56,
     "metadata": {
      "tags": []
     },
     "output_type": "execute_result"
    },
    {
     "data": {
      "text/plain": [
       "['./result/train_accuracy_score.pkl']"
      ]
     },
     "execution_count": 56,
     "metadata": {
      "tags": []
     },
     "output_type": "execute_result"
    },
    {
     "data": {
      "text/plain": [
       "['./result/testopen_accuracy_score.pkl']"
      ]
     },
     "execution_count": 56,
     "metadata": {
      "tags": []
     },
     "output_type": "execute_result"
    },
    {
     "name": "stdout",
     "output_type": "stream",
     "text": [
      "{'ComplementNB_blog-10-10-10': 0.9797979797979798, 'MLPClassifier_blog-10-10-10': 0.98989898989899, 'ComplementNB_blog-10-50-10': 0.9879759519038076, 'MLPClassifier_blog-10-50-10': 1.0, 'ComplementNB_blog-10-100-10': 0.97997997997998, 'MLPClassifier_blog-10-100-10': 0.998998998998999, 'ComplementNB_blog-50-10-10': 0.9859719438877755, 'MLPClassifier_blog-50-10-10': 0.9959919839679359}\n",
      "{'ComplementNB_blog-10-10-10': 0.7474747474747475, 'MLPClassifier_blog-10-10-10': 0.6262626262626263, 'ComplementNB_blog-10-50-10': 0.696969696969697, 'MLPClassifier_blog-10-50-10': 0.6363636363636364, 'ComplementNB_blog-10-100-10': 0.7777777777777778, 'MLPClassifier_blog-10-100-10': 0.7575757575757576, 'ComplementNB_blog-50-10-10': 0.5531062124248497, 'MLPClassifier_blog-50-10-10': 0.374749498997996}\n",
      "-------------------------- Case:blog-50-50-10 --------------------------------\n",
      "Now loading data and spliting\n",
      "./data/blog-50-50-10/train.csv\n"
     ]
    },
    {
     "name": "stderr",
     "output_type": "stream",
     "text": [
      "/usr/local/lib/python3.6/dist-packages/pandas/core/indexing.py:670: SettingWithCopyWarning: \n",
      "A value is trying to be set on a copy of a slice from a DataFrame\n",
      "\n",
      "See the caveats in the documentation: https://pandas.pydata.org/pandas-docs/stable/user_guide/indexing.html#returning-a-view-versus-a-copy\n",
      "  iloc._setitem_with_indexer(indexer, value)\n"
     ]
    },
    {
     "name": "stdout",
     "output_type": "stream",
     "text": [
      "Now training the model : ComplementNB\n",
      "Fitting 10 folds for each of 32 candidates, totalling 320 fits\n"
     ]
    },
    {
     "name": "stderr",
     "output_type": "stream",
     "text": [
      "[Parallel(n_jobs=-1)]: Using backend LokyBackend with 2 concurrent workers.\n",
      "[Parallel(n_jobs=-1)]: Done   1 tasks      | elapsed:    0.7s\n",
      "[Parallel(n_jobs=-1)]: Done   4 tasks      | elapsed:    1.4s\n",
      "[Parallel(n_jobs=-1)]: Done   9 tasks      | elapsed:    3.3s\n",
      "[Parallel(n_jobs=-1)]: Done  14 tasks      | elapsed:    4.8s\n",
      "[Parallel(n_jobs=-1)]: Done  21 tasks      | elapsed:    7.4s\n",
      "[Parallel(n_jobs=-1)]: Done  28 tasks      | elapsed:    9.5s\n",
      "[Parallel(n_jobs=-1)]: Done  37 tasks      | elapsed:   12.8s\n",
      "[Parallel(n_jobs=-1)]: Done  46 tasks      | elapsed:   15.6s\n",
      "[Parallel(n_jobs=-1)]: Done  57 tasks      | elapsed:   19.5s\n",
      "[Parallel(n_jobs=-1)]: Done  68 tasks      | elapsed:   23.2s\n",
      "[Parallel(n_jobs=-1)]: Done  81 tasks      | elapsed:   27.8s\n",
      "[Parallel(n_jobs=-1)]: Done  94 tasks      | elapsed:   31.9s\n",
      "[Parallel(n_jobs=-1)]: Done 109 tasks      | elapsed:   37.3s\n",
      "[Parallel(n_jobs=-1)]: Done 124 tasks      | elapsed:   42.2s\n",
      "[Parallel(n_jobs=-1)]: Done 141 tasks      | elapsed:   48.3s\n",
      "[Parallel(n_jobs=-1)]: Done 158 tasks      | elapsed:   54.1s\n",
      "[Parallel(n_jobs=-1)]: Done 177 tasks      | elapsed:  1.0min\n",
      "[Parallel(n_jobs=-1)]: Done 196 tasks      | elapsed:  1.1min\n",
      "[Parallel(n_jobs=-1)]: Done 217 tasks      | elapsed:  1.2min\n",
      "[Parallel(n_jobs=-1)]: Done 238 tasks      | elapsed:  1.4min\n",
      "[Parallel(n_jobs=-1)]: Done 261 tasks      | elapsed:  1.5min\n",
      "[Parallel(n_jobs=-1)]: Done 284 tasks      | elapsed:  1.6min\n",
      "[Parallel(n_jobs=-1)]: Done 309 tasks      | elapsed:  1.8min\n",
      "[Parallel(n_jobs=-1)]: Done 320 out of 320 | elapsed:  1.8min finished\n"
     ]
    },
    {
     "data": {
      "text/plain": [
       "{'model__alpha': 0.5, 'vect__max_features': 4000, 'vect__use_idf': False}"
      ]
     },
     "execution_count": 56,
     "metadata": {
      "tags": []
     },
     "output_type": "execute_result"
    },
    {
     "data": {
      "text/plain": [
       "['./result/ComplementNB_blog-50-50-10_gs.pkl']"
      ]
     },
     "execution_count": 56,
     "metadata": {
      "tags": []
     },
     "output_type": "execute_result"
    },
    {
     "data": {
      "text/plain": [
       "['./result/train_accuracy_score.pkl']"
      ]
     },
     "execution_count": 56,
     "metadata": {
      "tags": []
     },
     "output_type": "execute_result"
    },
    {
     "data": {
      "text/plain": [
       "['./result/testopen_accuracy_score.pkl']"
      ]
     },
     "execution_count": 56,
     "metadata": {
      "tags": []
     },
     "output_type": "execute_result"
    },
    {
     "name": "stdout",
     "output_type": "stream",
     "text": [
      "{'ComplementNB_blog-10-10-10': 0.9797979797979798, 'MLPClassifier_blog-10-10-10': 0.98989898989899, 'ComplementNB_blog-10-50-10': 0.9879759519038076, 'MLPClassifier_blog-10-50-10': 1.0, 'ComplementNB_blog-10-100-10': 0.97997997997998, 'MLPClassifier_blog-10-100-10': 0.998998998998999, 'ComplementNB_blog-50-10-10': 0.9859719438877755, 'MLPClassifier_blog-50-10-10': 0.9959919839679359, 'ComplementNB_blog-50-50-10': 0.9319727891156463}\n",
      "{'ComplementNB_blog-10-10-10': 0.7474747474747475, 'MLPClassifier_blog-10-10-10': 0.6262626262626263, 'ComplementNB_blog-10-50-10': 0.696969696969697, 'MLPClassifier_blog-10-50-10': 0.6363636363636364, 'ComplementNB_blog-10-100-10': 0.7777777777777778, 'MLPClassifier_blog-10-100-10': 0.7575757575757576, 'ComplementNB_blog-50-10-10': 0.5531062124248497, 'MLPClassifier_blog-50-10-10': 0.374749498997996, 'ComplementNB_blog-50-50-10': 0.591182364729459}\n",
      "Now training the model : MLPClassifier\n",
      "Fitting 10 folds for each of 12 candidates, totalling 120 fits\n"
     ]
    },
    {
     "name": "stderr",
     "output_type": "stream",
     "text": [
      "[Parallel(n_jobs=-1)]: Using backend LokyBackend with 2 concurrent workers.\n",
      "[Parallel(n_jobs=-1)]: Done   1 tasks      | elapsed:   25.7s\n",
      "[Parallel(n_jobs=-1)]: Done   4 tasks      | elapsed:   58.7s\n",
      "[Parallel(n_jobs=-1)]: Done   9 tasks      | elapsed:  2.5min\n",
      "[Parallel(n_jobs=-1)]: Done  14 tasks      | elapsed:  3.7min\n",
      "[Parallel(n_jobs=-1)]: Done  21 tasks      | elapsed:  6.2min\n",
      "[Parallel(n_jobs=-1)]: Done  28 tasks      | elapsed:  8.2min\n",
      "[Parallel(n_jobs=-1)]: Done  37 tasks      | elapsed: 12.0min\n",
      "[Parallel(n_jobs=-1)]: Done  46 tasks      | elapsed: 13.3min\n",
      "[Parallel(n_jobs=-1)]: Done  57 tasks      | elapsed: 14.1min\n",
      "[Parallel(n_jobs=-1)]: Done  68 tasks      | elapsed: 15.1min\n",
      "[Parallel(n_jobs=-1)]: Done  81 tasks      | elapsed: 16.4min\n",
      "[Parallel(n_jobs=-1)]: Done  94 tasks      | elapsed: 16.9min\n",
      "[Parallel(n_jobs=-1)]: Done 109 tasks      | elapsed: 17.6min\n",
      "[Parallel(n_jobs=-1)]: Done 120 out of 120 | elapsed: 18.1min finished\n"
     ]
    },
    {
     "data": {
      "text/plain": [
       "{'model__hidden_layer_sizes': (50, 50),\n",
       " 'model__learning_rate': 'constant',\n",
       " 'model__learning_rate_init': 0.001,\n",
       " 'model__max_iter': 2000,\n",
       " 'model__solver': 'adam',\n",
       " 'vect__max_features': 4000,\n",
       " 'vect__use_idf': True}"
      ]
     },
     "execution_count": 56,
     "metadata": {
      "tags": []
     },
     "output_type": "execute_result"
    },
    {
     "data": {
      "text/plain": [
       "['./result/MLPClassifier_blog-50-50-10_gs.pkl']"
      ]
     },
     "execution_count": 56,
     "metadata": {
      "tags": []
     },
     "output_type": "execute_result"
    },
    {
     "data": {
      "text/plain": [
       "['./result/train_accuracy_score.pkl']"
      ]
     },
     "execution_count": 56,
     "metadata": {
      "tags": []
     },
     "output_type": "execute_result"
    },
    {
     "data": {
      "text/plain": [
       "['./result/testopen_accuracy_score.pkl']"
      ]
     },
     "execution_count": 56,
     "metadata": {
      "tags": []
     },
     "output_type": "execute_result"
    },
    {
     "name": "stdout",
     "output_type": "stream",
     "text": [
      "{'ComplementNB_blog-10-10-10': 0.9797979797979798, 'MLPClassifier_blog-10-10-10': 0.98989898989899, 'ComplementNB_blog-10-50-10': 0.9879759519038076, 'MLPClassifier_blog-10-50-10': 1.0, 'ComplementNB_blog-10-100-10': 0.97997997997998, 'MLPClassifier_blog-10-100-10': 0.998998998998999, 'ComplementNB_blog-50-10-10': 0.9859719438877755, 'MLPClassifier_blog-50-10-10': 0.9959919839679359, 'ComplementNB_blog-50-50-10': 0.9319727891156463, 'MLPClassifier_blog-50-50-10': 0.9959983993597439}\n",
      "{'ComplementNB_blog-10-10-10': 0.7474747474747475, 'MLPClassifier_blog-10-10-10': 0.6262626262626263, 'ComplementNB_blog-10-50-10': 0.696969696969697, 'MLPClassifier_blog-10-50-10': 0.6363636363636364, 'ComplementNB_blog-10-100-10': 0.7777777777777778, 'MLPClassifier_blog-10-100-10': 0.7575757575757576, 'ComplementNB_blog-50-10-10': 0.5531062124248497, 'MLPClassifier_blog-50-10-10': 0.374749498997996, 'ComplementNB_blog-50-50-10': 0.591182364729459, 'MLPClassifier_blog-50-50-10': 0.4969939879759519}\n",
      "-------------------------- Case:blog-50-100-10 --------------------------------\n",
      "Now loading data and spliting\n",
      "./data/blog-50-100-10/train.csv\n"
     ]
    },
    {
     "name": "stderr",
     "output_type": "stream",
     "text": [
      "/usr/local/lib/python3.6/dist-packages/pandas/core/indexing.py:670: SettingWithCopyWarning: \n",
      "A value is trying to be set on a copy of a slice from a DataFrame\n",
      "\n",
      "See the caveats in the documentation: https://pandas.pydata.org/pandas-docs/stable/user_guide/indexing.html#returning-a-view-versus-a-copy\n",
      "  iloc._setitem_with_indexer(indexer, value)\n"
     ]
    },
    {
     "name": "stdout",
     "output_type": "stream",
     "text": [
      "Now training the model : ComplementNB\n",
      "Fitting 10 folds for each of 32 candidates, totalling 320 fits\n"
     ]
    },
    {
     "name": "stderr",
     "output_type": "stream",
     "text": [
      "[Parallel(n_jobs=-1)]: Using backend LokyBackend with 2 concurrent workers.\n",
      "[Parallel(n_jobs=-1)]: Done   1 tasks      | elapsed:    1.4s\n",
      "[Parallel(n_jobs=-1)]: Done   4 tasks      | elapsed:    2.8s\n",
      "[Parallel(n_jobs=-1)]: Done   9 tasks      | elapsed:    6.9s\n",
      "[Parallel(n_jobs=-1)]: Done  14 tasks      | elapsed:    9.7s\n",
      "[Parallel(n_jobs=-1)]: Done  21 tasks      | elapsed:   15.0s\n",
      "[Parallel(n_jobs=-1)]: Done  28 tasks      | elapsed:   19.1s\n",
      "[Parallel(n_jobs=-1)]: Done  37 tasks      | elapsed:   25.9s\n",
      "[Parallel(n_jobs=-1)]: Done  46 tasks      | elapsed:   31.4s\n",
      "[Parallel(n_jobs=-1)]: Done  57 tasks      | elapsed:   39.6s\n",
      "[Parallel(n_jobs=-1)]: Done  68 tasks      | elapsed:   46.6s\n",
      "[Parallel(n_jobs=-1)]: Done  81 tasks      | elapsed:   56.2s\n",
      "[Parallel(n_jobs=-1)]: Done  94 tasks      | elapsed:  1.1min\n",
      "[Parallel(n_jobs=-1)]: Done 109 tasks      | elapsed:  1.3min\n",
      "[Parallel(n_jobs=-1)]: Done 124 tasks      | elapsed:  1.4min\n",
      "[Parallel(n_jobs=-1)]: Done 141 tasks      | elapsed:  1.6min\n",
      "[Parallel(n_jobs=-1)]: Done 158 tasks      | elapsed:  1.8min\n",
      "[Parallel(n_jobs=-1)]: Done 177 tasks      | elapsed:  2.0min\n",
      "[Parallel(n_jobs=-1)]: Done 196 tasks      | elapsed:  2.2min\n",
      "[Parallel(n_jobs=-1)]: Done 217 tasks      | elapsed:  2.5min\n",
      "[Parallel(n_jobs=-1)]: Done 238 tasks      | elapsed:  2.7min\n",
      "[Parallel(n_jobs=-1)]: Done 261 tasks      | elapsed:  3.0min\n",
      "[Parallel(n_jobs=-1)]: Done 284 tasks      | elapsed:  3.2min\n",
      "[Parallel(n_jobs=-1)]: Done 309 tasks      | elapsed:  3.5min\n",
      "[Parallel(n_jobs=-1)]: Done 320 out of 320 | elapsed:  3.7min finished\n"
     ]
    },
    {
     "data": {
      "text/plain": [
       "{'model__alpha': 0.5, 'vect__max_features': 4000, 'vect__use_idf': False}"
      ]
     },
     "execution_count": 56,
     "metadata": {
      "tags": []
     },
     "output_type": "execute_result"
    },
    {
     "data": {
      "text/plain": [
       "['./result/ComplementNB_blog-50-100-10_gs.pkl']"
      ]
     },
     "execution_count": 56,
     "metadata": {
      "tags": []
     },
     "output_type": "execute_result"
    },
    {
     "data": {
      "text/plain": [
       "['./result/train_accuracy_score.pkl']"
      ]
     },
     "execution_count": 56,
     "metadata": {
      "tags": []
     },
     "output_type": "execute_result"
    },
    {
     "data": {
      "text/plain": [
       "['./result/testopen_accuracy_score.pkl']"
      ]
     },
     "execution_count": 56,
     "metadata": {
      "tags": []
     },
     "output_type": "execute_result"
    },
    {
     "name": "stdout",
     "output_type": "stream",
     "text": [
      "{'ComplementNB_blog-10-10-10': 0.9797979797979798, 'MLPClassifier_blog-10-10-10': 0.98989898989899, 'ComplementNB_blog-10-50-10': 0.9879759519038076, 'MLPClassifier_blog-10-50-10': 1.0, 'ComplementNB_blog-10-100-10': 0.97997997997998, 'MLPClassifier_blog-10-100-10': 0.998998998998999, 'ComplementNB_blog-50-10-10': 0.9859719438877755, 'MLPClassifier_blog-50-10-10': 0.9959919839679359, 'ComplementNB_blog-50-50-10': 0.9319727891156463, 'MLPClassifier_blog-50-50-10': 0.9959983993597439, 'ComplementNB_blog-50-100-10': 0.8767753550710142}\n",
      "{'ComplementNB_blog-10-10-10': 0.7474747474747475, 'MLPClassifier_blog-10-10-10': 0.6262626262626263, 'ComplementNB_blog-10-50-10': 0.696969696969697, 'MLPClassifier_blog-10-50-10': 0.6363636363636364, 'ComplementNB_blog-10-100-10': 0.7777777777777778, 'MLPClassifier_blog-10-100-10': 0.7575757575757576, 'ComplementNB_blog-50-10-10': 0.5531062124248497, 'MLPClassifier_blog-50-10-10': 0.374749498997996, 'ComplementNB_blog-50-50-10': 0.591182364729459, 'MLPClassifier_blog-50-50-10': 0.4969939879759519, 'ComplementNB_blog-50-100-10': 0.5991983967935872}\n",
      "Now training the model : MLPClassifier\n",
      "Fitting 10 folds for each of 12 candidates, totalling 120 fits\n"
     ]
    },
    {
     "name": "stderr",
     "output_type": "stream",
     "text": [
      "[Parallel(n_jobs=-1)]: Using backend LokyBackend with 2 concurrent workers.\n",
      "[Parallel(n_jobs=-1)]: Done   1 tasks      | elapsed:   59.1s\n",
      "[Parallel(n_jobs=-1)]: Done   4 tasks      | elapsed:  2.0min\n",
      "[Parallel(n_jobs=-1)]: Done   9 tasks      | elapsed:  4.8min\n",
      "[Parallel(n_jobs=-1)]: Done  14 tasks      | elapsed:  7.2min\n",
      "[Parallel(n_jobs=-1)]: Done  21 tasks      | elapsed: 11.3min\n",
      "[Parallel(n_jobs=-1)]: Done  28 tasks      | elapsed: 14.5min\n",
      "[Parallel(n_jobs=-1)]: Done  37 tasks      | elapsed: 20.1min\n",
      "[Parallel(n_jobs=-1)]: Done  46 tasks      | elapsed: 22.1min\n",
      "[Parallel(n_jobs=-1)]: Done  57 tasks      | elapsed: 23.5min\n",
      "[Parallel(n_jobs=-1)]: Done  68 tasks      | elapsed: 25.6min\n",
      "[Parallel(n_jobs=-1)]: Done  81 tasks      | elapsed: 28.4min\n",
      "[Parallel(n_jobs=-1)]: Done  94 tasks      | elapsed: 29.6min\n",
      "[Parallel(n_jobs=-1)]: Done 109 tasks      | elapsed: 31.3min\n",
      "[Parallel(n_jobs=-1)]: Done 120 out of 120 | elapsed: 33.0min finished\n"
     ]
    },
    {
     "data": {
      "text/plain": [
       "{'model__hidden_layer_sizes': (50, 50),\n",
       " 'model__learning_rate': 'constant',\n",
       " 'model__learning_rate_init': 0.001,\n",
       " 'model__max_iter': 2000,\n",
       " 'model__solver': 'adam',\n",
       " 'vect__max_features': 4000,\n",
       " 'vect__use_idf': True}"
      ]
     },
     "execution_count": 56,
     "metadata": {
      "tags": []
     },
     "output_type": "execute_result"
    },
    {
     "data": {
      "text/plain": [
       "['./result/MLPClassifier_blog-50-100-10_gs.pkl']"
      ]
     },
     "execution_count": 56,
     "metadata": {
      "tags": []
     },
     "output_type": "execute_result"
    },
    {
     "data": {
      "text/plain": [
       "['./result/train_accuracy_score.pkl']"
      ]
     },
     "execution_count": 56,
     "metadata": {
      "tags": []
     },
     "output_type": "execute_result"
    },
    {
     "data": {
      "text/plain": [
       "['./result/testopen_accuracy_score.pkl']"
      ]
     },
     "execution_count": 56,
     "metadata": {
      "tags": []
     },
     "output_type": "execute_result"
    },
    {
     "name": "stdout",
     "output_type": "stream",
     "text": [
      "{'ComplementNB_blog-10-10-10': 0.9797979797979798, 'MLPClassifier_blog-10-10-10': 0.98989898989899, 'ComplementNB_blog-10-50-10': 0.9879759519038076, 'MLPClassifier_blog-10-50-10': 1.0, 'ComplementNB_blog-10-100-10': 0.97997997997998, 'MLPClassifier_blog-10-100-10': 0.998998998998999, 'ComplementNB_blog-50-10-10': 0.9859719438877755, 'MLPClassifier_blog-50-10-10': 0.9959919839679359, 'ComplementNB_blog-50-50-10': 0.9319727891156463, 'MLPClassifier_blog-50-50-10': 0.9959983993597439, 'ComplementNB_blog-50-100-10': 0.8767753550710142, 'MLPClassifier_blog-50-100-10': 0.9975995199039808}\n",
      "{'ComplementNB_blog-10-10-10': 0.7474747474747475, 'MLPClassifier_blog-10-10-10': 0.6262626262626263, 'ComplementNB_blog-10-50-10': 0.696969696969697, 'MLPClassifier_blog-10-50-10': 0.6363636363636364, 'ComplementNB_blog-10-100-10': 0.7777777777777778, 'MLPClassifier_blog-10-100-10': 0.7575757575757576, 'ComplementNB_blog-50-10-10': 0.5531062124248497, 'MLPClassifier_blog-50-10-10': 0.374749498997996, 'ComplementNB_blog-50-50-10': 0.591182364729459, 'MLPClassifier_blog-50-50-10': 0.4969939879759519, 'ComplementNB_blog-50-100-10': 0.5991983967935872, 'MLPClassifier_blog-50-100-10': 0.5230460921843687}\n",
      "-------------------------- Case:blog-100-10-10 --------------------------------\n",
      "Now loading data and spliting\n",
      "./data/blog-100-10-10/train.csv\n"
     ]
    },
    {
     "name": "stderr",
     "output_type": "stream",
     "text": [
      "/usr/local/lib/python3.6/dist-packages/pandas/core/indexing.py:670: SettingWithCopyWarning: \n",
      "A value is trying to be set on a copy of a slice from a DataFrame\n",
      "\n",
      "See the caveats in the documentation: https://pandas.pydata.org/pandas-docs/stable/user_guide/indexing.html#returning-a-view-versus-a-copy\n",
      "  iloc._setitem_with_indexer(indexer, value)\n"
     ]
    },
    {
     "name": "stdout",
     "output_type": "stream",
     "text": [
      "Now training the model : ComplementNB\n",
      "Fitting 10 folds for each of 32 candidates, totalling 320 fits\n"
     ]
    },
    {
     "name": "stderr",
     "output_type": "stream",
     "text": [
      "/usr/local/lib/python3.6/dist-packages/sklearn/model_selection/_split.py:667: UserWarning: The least populated class in y has only 9 members, which is less than n_splits=10.\n",
      "  % (min_groups, self.n_splits)), UserWarning)\n",
      "[Parallel(n_jobs=-1)]: Using backend LokyBackend with 2 concurrent workers.\n",
      "[Parallel(n_jobs=-1)]: Done   1 tasks      | elapsed:    0.4s\n",
      "[Parallel(n_jobs=-1)]: Done   4 tasks      | elapsed:    0.8s\n",
      "[Parallel(n_jobs=-1)]: Done   9 tasks      | elapsed:    1.9s\n",
      "[Parallel(n_jobs=-1)]: Done  14 tasks      | elapsed:    2.7s\n",
      "[Parallel(n_jobs=-1)]: Done  21 tasks      | elapsed:    4.1s\n",
      "[Parallel(n_jobs=-1)]: Done  28 tasks      | elapsed:    5.3s\n",
      "[Parallel(n_jobs=-1)]: Done  37 tasks      | elapsed:    7.1s\n",
      "[Parallel(n_jobs=-1)]: Done  46 tasks      | elapsed:    8.7s\n",
      "[Parallel(n_jobs=-1)]: Done  57 tasks      | elapsed:   10.9s\n",
      "[Parallel(n_jobs=-1)]: Done  68 tasks      | elapsed:   13.0s\n",
      "[Parallel(n_jobs=-1)]: Done  81 tasks      | elapsed:   15.6s\n",
      "[Parallel(n_jobs=-1)]: Done  94 tasks      | elapsed:   17.8s\n",
      "[Parallel(n_jobs=-1)]: Done 109 tasks      | elapsed:   20.6s\n",
      "[Parallel(n_jobs=-1)]: Done 124 tasks      | elapsed:   23.3s\n",
      "[Parallel(n_jobs=-1)]: Done 141 tasks      | elapsed:   26.6s\n",
      "[Parallel(n_jobs=-1)]: Done 158 tasks      | elapsed:   29.8s\n",
      "[Parallel(n_jobs=-1)]: Done 177 tasks      | elapsed:   33.4s\n",
      "[Parallel(n_jobs=-1)]: Done 196 tasks      | elapsed:   36.7s\n",
      "[Parallel(n_jobs=-1)]: Done 217 tasks      | elapsed:   40.7s\n",
      "[Parallel(n_jobs=-1)]: Done 238 tasks      | elapsed:   44.8s\n",
      "[Parallel(n_jobs=-1)]: Done 261 tasks      | elapsed:   49.0s\n",
      "[Parallel(n_jobs=-1)]: Done 284 tasks      | elapsed:   53.4s\n",
      "[Parallel(n_jobs=-1)]: Done 309 tasks      | elapsed:   58.0s\n",
      "[Parallel(n_jobs=-1)]: Done 320 out of 320 | elapsed:  1.0min finished\n"
     ]
    },
    {
     "data": {
      "text/plain": [
       "{'model__alpha': 0.5, 'vect__max_features': 4000, 'vect__use_idf': False}"
      ]
     },
     "execution_count": 56,
     "metadata": {
      "tags": []
     },
     "output_type": "execute_result"
    },
    {
     "data": {
      "text/plain": [
       "['./result/ComplementNB_blog-100-10-10_gs.pkl']"
      ]
     },
     "execution_count": 56,
     "metadata": {
      "tags": []
     },
     "output_type": "execute_result"
    },
    {
     "data": {
      "text/plain": [
       "['./result/train_accuracy_score.pkl']"
      ]
     },
     "execution_count": 56,
     "metadata": {
      "tags": []
     },
     "output_type": "execute_result"
    },
    {
     "data": {
      "text/plain": [
       "['./result/testopen_accuracy_score.pkl']"
      ]
     },
     "execution_count": 56,
     "metadata": {
      "tags": []
     },
     "output_type": "execute_result"
    },
    {
     "name": "stdout",
     "output_type": "stream",
     "text": [
      "{'ComplementNB_blog-10-10-10': 0.9797979797979798, 'MLPClassifier_blog-10-10-10': 0.98989898989899, 'ComplementNB_blog-10-50-10': 0.9879759519038076, 'MLPClassifier_blog-10-50-10': 1.0, 'ComplementNB_blog-10-100-10': 0.97997997997998, 'MLPClassifier_blog-10-100-10': 0.998998998998999, 'ComplementNB_blog-50-10-10': 0.9859719438877755, 'MLPClassifier_blog-50-10-10': 0.9959919839679359, 'ComplementNB_blog-50-50-10': 0.9319727891156463, 'MLPClassifier_blog-50-50-10': 0.9959983993597439, 'ComplementNB_blog-50-100-10': 0.8767753550710142, 'MLPClassifier_blog-50-100-10': 0.9975995199039808, 'ComplementNB_blog-100-10-10': 0.984984984984985}\n",
      "{'ComplementNB_blog-10-10-10': 0.7474747474747475, 'MLPClassifier_blog-10-10-10': 0.6262626262626263, 'ComplementNB_blog-10-50-10': 0.696969696969697, 'MLPClassifier_blog-10-50-10': 0.6363636363636364, 'ComplementNB_blog-10-100-10': 0.7777777777777778, 'MLPClassifier_blog-10-100-10': 0.7575757575757576, 'ComplementNB_blog-50-10-10': 0.5531062124248497, 'MLPClassifier_blog-50-10-10': 0.374749498997996, 'ComplementNB_blog-50-50-10': 0.591182364729459, 'MLPClassifier_blog-50-50-10': 0.4969939879759519, 'ComplementNB_blog-50-100-10': 0.5991983967935872, 'MLPClassifier_blog-50-100-10': 0.5230460921843687, 'ComplementNB_blog-100-10-10': 0.44244244244244246}\n",
      "Now training the model : MLPClassifier\n",
      "Fitting 10 folds for each of 12 candidates, totalling 120 fits\n"
     ]
    },
    {
     "name": "stderr",
     "output_type": "stream",
     "text": [
      "/usr/local/lib/python3.6/dist-packages/sklearn/model_selection/_split.py:667: UserWarning: The least populated class in y has only 9 members, which is less than n_splits=10.\n",
      "  % (min_groups, self.n_splits)), UserWarning)\n",
      "[Parallel(n_jobs=-1)]: Using backend LokyBackend with 2 concurrent workers.\n",
      "[Parallel(n_jobs=-1)]: Done   1 tasks      | elapsed:   16.9s\n",
      "[Parallel(n_jobs=-1)]: Done   4 tasks      | elapsed:   42.0s\n",
      "[Parallel(n_jobs=-1)]: Done   9 tasks      | elapsed:  1.5min\n",
      "[Parallel(n_jobs=-1)]: Done  14 tasks      | elapsed:  2.3min\n",
      "[Parallel(n_jobs=-1)]: Done  21 tasks      | elapsed:  3.7min\n",
      "[Parallel(n_jobs=-1)]: Done  28 tasks      | elapsed:  4.9min\n",
      "[Parallel(n_jobs=-1)]: Done  37 tasks      | elapsed:  6.8min\n",
      "[Parallel(n_jobs=-1)]: Done  46 tasks      | elapsed:  7.6min\n",
      "[Parallel(n_jobs=-1)]: Done  57 tasks      | elapsed:  8.1min\n",
      "[Parallel(n_jobs=-1)]: Done  68 tasks      | elapsed:  8.6min\n",
      "[Parallel(n_jobs=-1)]: Done  81 tasks      | elapsed:  9.3min\n",
      "[Parallel(n_jobs=-1)]: Done  94 tasks      | elapsed:  9.5min\n",
      "[Parallel(n_jobs=-1)]: Done 109 tasks      | elapsed:  9.8min\n",
      "[Parallel(n_jobs=-1)]: Done 120 out of 120 | elapsed: 10.1min finished\n"
     ]
    },
    {
     "data": {
      "text/plain": [
       "{'model__hidden_layer_sizes': (50, 50),\n",
       " 'model__learning_rate': 'constant',\n",
       " 'model__learning_rate_init': 0.001,\n",
       " 'model__max_iter': 2000,\n",
       " 'model__solver': 'adam',\n",
       " 'vect__max_features': 4000,\n",
       " 'vect__use_idf': True}"
      ]
     },
     "execution_count": 56,
     "metadata": {
      "tags": []
     },
     "output_type": "execute_result"
    },
    {
     "data": {
      "text/plain": [
       "['./result/MLPClassifier_blog-100-10-10_gs.pkl']"
      ]
     },
     "execution_count": 56,
     "metadata": {
      "tags": []
     },
     "output_type": "execute_result"
    },
    {
     "data": {
      "text/plain": [
       "['./result/train_accuracy_score.pkl']"
      ]
     },
     "execution_count": 56,
     "metadata": {
      "tags": []
     },
     "output_type": "execute_result"
    },
    {
     "data": {
      "text/plain": [
       "['./result/testopen_accuracy_score.pkl']"
      ]
     },
     "execution_count": 56,
     "metadata": {
      "tags": []
     },
     "output_type": "execute_result"
    },
    {
     "name": "stdout",
     "output_type": "stream",
     "text": [
      "{'ComplementNB_blog-10-10-10': 0.9797979797979798, 'MLPClassifier_blog-10-10-10': 0.98989898989899, 'ComplementNB_blog-10-50-10': 0.9879759519038076, 'MLPClassifier_blog-10-50-10': 1.0, 'ComplementNB_blog-10-100-10': 0.97997997997998, 'MLPClassifier_blog-10-100-10': 0.998998998998999, 'ComplementNB_blog-50-10-10': 0.9859719438877755, 'MLPClassifier_blog-50-10-10': 0.9959919839679359, 'ComplementNB_blog-50-50-10': 0.9319727891156463, 'MLPClassifier_blog-50-50-10': 0.9959983993597439, 'ComplementNB_blog-50-100-10': 0.8767753550710142, 'MLPClassifier_blog-50-100-10': 0.9975995199039808, 'ComplementNB_blog-100-10-10': 0.984984984984985, 'MLPClassifier_blog-100-10-10': 0.997997997997998}\n",
      "{'ComplementNB_blog-10-10-10': 0.7474747474747475, 'MLPClassifier_blog-10-10-10': 0.6262626262626263, 'ComplementNB_blog-10-50-10': 0.696969696969697, 'MLPClassifier_blog-10-50-10': 0.6363636363636364, 'ComplementNB_blog-10-100-10': 0.7777777777777778, 'MLPClassifier_blog-10-100-10': 0.7575757575757576, 'ComplementNB_blog-50-10-10': 0.5531062124248497, 'MLPClassifier_blog-50-10-10': 0.374749498997996, 'ComplementNB_blog-50-50-10': 0.591182364729459, 'MLPClassifier_blog-50-50-10': 0.4969939879759519, 'ComplementNB_blog-50-100-10': 0.5991983967935872, 'MLPClassifier_blog-50-100-10': 0.5230460921843687, 'ComplementNB_blog-100-10-10': 0.44244244244244246, 'MLPClassifier_blog-100-10-10': 0.2832832832832833}\n",
      "-------------------------- Case:blog-100-50-10 --------------------------------\n",
      "Now loading data and spliting\n",
      "./data/blog-100-50-10/train.csv\n"
     ]
    },
    {
     "name": "stderr",
     "output_type": "stream",
     "text": [
      "/usr/local/lib/python3.6/dist-packages/pandas/core/indexing.py:670: SettingWithCopyWarning: \n",
      "A value is trying to be set on a copy of a slice from a DataFrame\n",
      "\n",
      "See the caveats in the documentation: https://pandas.pydata.org/pandas-docs/stable/user_guide/indexing.html#returning-a-view-versus-a-copy\n",
      "  iloc._setitem_with_indexer(indexer, value)\n"
     ]
    },
    {
     "name": "stdout",
     "output_type": "stream",
     "text": [
      "Now training the model : ComplementNB\n",
      "Fitting 10 folds for each of 32 candidates, totalling 320 fits\n"
     ]
    },
    {
     "name": "stderr",
     "output_type": "stream",
     "text": [
      "[Parallel(n_jobs=-1)]: Using backend LokyBackend with 2 concurrent workers.\n",
      "[Parallel(n_jobs=-1)]: Done   1 tasks      | elapsed:    1.7s\n",
      "[Parallel(n_jobs=-1)]: Done   4 tasks      | elapsed:    3.5s\n",
      "[Parallel(n_jobs=-1)]: Done   9 tasks      | elapsed:    8.5s\n",
      "[Parallel(n_jobs=-1)]: Done  14 tasks      | elapsed:   12.1s\n",
      "[Parallel(n_jobs=-1)]: Done  21 tasks      | elapsed:   18.7s\n",
      "[Parallel(n_jobs=-1)]: Done  28 tasks      | elapsed:   24.1s\n",
      "[Parallel(n_jobs=-1)]: Done  37 tasks      | elapsed:   32.5s\n",
      "[Parallel(n_jobs=-1)]: Done  46 tasks      | elapsed:   39.6s\n",
      "[Parallel(n_jobs=-1)]: Done  57 tasks      | elapsed:   50.1s\n",
      "[Parallel(n_jobs=-1)]: Done  68 tasks      | elapsed:   59.2s\n",
      "[Parallel(n_jobs=-1)]: Done  81 tasks      | elapsed:  1.2min\n",
      "[Parallel(n_jobs=-1)]: Done  94 tasks      | elapsed:  1.4min\n",
      "[Parallel(n_jobs=-1)]: Done 109 tasks      | elapsed:  1.6min\n",
      "[Parallel(n_jobs=-1)]: Done 124 tasks      | elapsed:  1.8min\n",
      "[Parallel(n_jobs=-1)]: Done 141 tasks      | elapsed:  2.1min\n",
      "[Parallel(n_jobs=-1)]: Done 158 tasks      | elapsed:  2.4min\n",
      "[Parallel(n_jobs=-1)]: Done 177 tasks      | elapsed:  2.6min\n",
      "[Parallel(n_jobs=-1)]: Done 196 tasks      | elapsed:  2.9min\n",
      "[Parallel(n_jobs=-1)]: Done 217 tasks      | elapsed:  3.2min\n",
      "[Parallel(n_jobs=-1)]: Done 238 tasks      | elapsed:  3.5min\n",
      "[Parallel(n_jobs=-1)]: Done 261 tasks      | elapsed:  3.9min\n",
      "[Parallel(n_jobs=-1)]: Done 284 tasks      | elapsed:  4.2min\n",
      "[Parallel(n_jobs=-1)]: Done 309 tasks      | elapsed:  4.6min\n",
      "[Parallel(n_jobs=-1)]: Done 320 out of 320 | elapsed:  4.8min finished\n"
     ]
    },
    {
     "data": {
      "text/plain": [
       "{'model__alpha': 1, 'vect__max_features': 4000, 'vect__use_idf': False}"
      ]
     },
     "execution_count": 56,
     "metadata": {
      "tags": []
     },
     "output_type": "execute_result"
    },
    {
     "data": {
      "text/plain": [
       "['./result/ComplementNB_blog-100-50-10_gs.pkl']"
      ]
     },
     "execution_count": 56,
     "metadata": {
      "tags": []
     },
     "output_type": "execute_result"
    },
    {
     "data": {
      "text/plain": [
       "['./result/train_accuracy_score.pkl']"
      ]
     },
     "execution_count": 56,
     "metadata": {
      "tags": []
     },
     "output_type": "execute_result"
    },
    {
     "data": {
      "text/plain": [
       "['./result/testopen_accuracy_score.pkl']"
      ]
     },
     "execution_count": 56,
     "metadata": {
      "tags": []
     },
     "output_type": "execute_result"
    },
    {
     "name": "stdout",
     "output_type": "stream",
     "text": [
      "{'ComplementNB_blog-10-10-10': 0.9797979797979798, 'MLPClassifier_blog-10-10-10': 0.98989898989899, 'ComplementNB_blog-10-50-10': 0.9879759519038076, 'MLPClassifier_blog-10-50-10': 1.0, 'ComplementNB_blog-10-100-10': 0.97997997997998, 'MLPClassifier_blog-10-100-10': 0.998998998998999, 'ComplementNB_blog-50-10-10': 0.9859719438877755, 'MLPClassifier_blog-50-10-10': 0.9959919839679359, 'ComplementNB_blog-50-50-10': 0.9319727891156463, 'MLPClassifier_blog-50-50-10': 0.9959983993597439, 'ComplementNB_blog-50-100-10': 0.8767753550710142, 'MLPClassifier_blog-50-100-10': 0.9975995199039808, 'ComplementNB_blog-100-10-10': 0.984984984984985, 'MLPClassifier_blog-100-10-10': 0.997997997997998, 'ComplementNB_blog-100-50-10': 0.865373074614923}\n",
      "{'ComplementNB_blog-10-10-10': 0.7474747474747475, 'MLPClassifier_blog-10-10-10': 0.6262626262626263, 'ComplementNB_blog-10-50-10': 0.696969696969697, 'MLPClassifier_blog-10-50-10': 0.6363636363636364, 'ComplementNB_blog-10-100-10': 0.7777777777777778, 'MLPClassifier_blog-10-100-10': 0.7575757575757576, 'ComplementNB_blog-50-10-10': 0.5531062124248497, 'MLPClassifier_blog-50-10-10': 0.374749498997996, 'ComplementNB_blog-50-50-10': 0.591182364729459, 'MLPClassifier_blog-50-50-10': 0.4969939879759519, 'ComplementNB_blog-50-100-10': 0.5991983967935872, 'MLPClassifier_blog-50-100-10': 0.5230460921843687, 'ComplementNB_blog-100-10-10': 0.44244244244244246, 'MLPClassifier_blog-100-10-10': 0.2832832832832833, 'ComplementNB_blog-100-50-10': 0.45845845845845845}\n",
      "Now training the model : MLPClassifier\n",
      "Fitting 10 folds for each of 12 candidates, totalling 120 fits\n"
     ]
    },
    {
     "name": "stderr",
     "output_type": "stream",
     "text": [
      "[Parallel(n_jobs=-1)]: Using backend LokyBackend with 2 concurrent workers.\n",
      "[Parallel(n_jobs=-1)]: Done   1 tasks      | elapsed:  1.3min\n",
      "[Parallel(n_jobs=-1)]: Done   4 tasks      | elapsed:  2.7min\n",
      "[Parallel(n_jobs=-1)]: Done   9 tasks      | elapsed:  6.6min\n",
      "[Parallel(n_jobs=-1)]: Done  14 tasks      | elapsed:  9.8min\n",
      "[Parallel(n_jobs=-1)]: Done  21 tasks      | elapsed: 15.3min\n",
      "[Parallel(n_jobs=-1)]: Done  28 tasks      | elapsed: 19.9min\n",
      "[Parallel(n_jobs=-1)]: Done  37 tasks      | elapsed: 27.3min\n",
      "[Parallel(n_jobs=-1)]: Done  46 tasks      | elapsed: 30.4min\n",
      "[Parallel(n_jobs=-1)]: Done  57 tasks      | elapsed: 32.7min\n",
      "[Parallel(n_jobs=-1)]: Done  68 tasks      | elapsed: 35.5min\n",
      "[Parallel(n_jobs=-1)]: Done  81 tasks      | elapsed: 40.1min\n",
      "[Parallel(n_jobs=-1)]: Done  94 tasks      | elapsed: 41.9min\n",
      "[Parallel(n_jobs=-1)]: Done 109 tasks      | elapsed: 44.6min\n",
      "[Parallel(n_jobs=-1)]: Done 120 out of 120 | elapsed: 47.0min finished\n"
     ]
    },
    {
     "data": {
      "text/plain": [
       "{'model__hidden_layer_sizes': (50, 50),\n",
       " 'model__learning_rate': 'constant',\n",
       " 'model__learning_rate_init': 0.001,\n",
       " 'model__max_iter': 2000,\n",
       " 'model__solver': 'adam',\n",
       " 'vect__max_features': 4000,\n",
       " 'vect__use_idf': True}"
      ]
     },
     "execution_count": 56,
     "metadata": {
      "tags": []
     },
     "output_type": "execute_result"
    },
    {
     "data": {
      "text/plain": [
       "['./result/MLPClassifier_blog-100-50-10_gs.pkl']"
      ]
     },
     "execution_count": 56,
     "metadata": {
      "tags": []
     },
     "output_type": "execute_result"
    },
    {
     "data": {
      "text/plain": [
       "['./result/train_accuracy_score.pkl']"
      ]
     },
     "execution_count": 56,
     "metadata": {
      "tags": []
     },
     "output_type": "execute_result"
    },
    {
     "data": {
      "text/plain": [
       "['./result/testopen_accuracy_score.pkl']"
      ]
     },
     "execution_count": 56,
     "metadata": {
      "tags": []
     },
     "output_type": "execute_result"
    },
    {
     "name": "stdout",
     "output_type": "stream",
     "text": [
      "{'ComplementNB_blog-10-10-10': 0.9797979797979798, 'MLPClassifier_blog-10-10-10': 0.98989898989899, 'ComplementNB_blog-10-50-10': 0.9879759519038076, 'MLPClassifier_blog-10-50-10': 1.0, 'ComplementNB_blog-10-100-10': 0.97997997997998, 'MLPClassifier_blog-10-100-10': 0.998998998998999, 'ComplementNB_blog-50-10-10': 0.9859719438877755, 'MLPClassifier_blog-50-10-10': 0.9959919839679359, 'ComplementNB_blog-50-50-10': 0.9319727891156463, 'MLPClassifier_blog-50-50-10': 0.9959983993597439, 'ComplementNB_blog-50-100-10': 0.8767753550710142, 'MLPClassifier_blog-50-100-10': 0.9975995199039808, 'ComplementNB_blog-100-10-10': 0.984984984984985, 'MLPClassifier_blog-100-10-10': 0.997997997997998, 'ComplementNB_blog-100-50-10': 0.865373074614923, 'MLPClassifier_blog-100-50-10': 0.992998599719944}\n",
      "{'ComplementNB_blog-10-10-10': 0.7474747474747475, 'MLPClassifier_blog-10-10-10': 0.6262626262626263, 'ComplementNB_blog-10-50-10': 0.696969696969697, 'MLPClassifier_blog-10-50-10': 0.6363636363636364, 'ComplementNB_blog-10-100-10': 0.7777777777777778, 'MLPClassifier_blog-10-100-10': 0.7575757575757576, 'ComplementNB_blog-50-10-10': 0.5531062124248497, 'MLPClassifier_blog-50-10-10': 0.374749498997996, 'ComplementNB_blog-50-50-10': 0.591182364729459, 'MLPClassifier_blog-50-50-10': 0.4969939879759519, 'ComplementNB_blog-50-100-10': 0.5991983967935872, 'MLPClassifier_blog-50-100-10': 0.5230460921843687, 'ComplementNB_blog-100-10-10': 0.44244244244244246, 'MLPClassifier_blog-100-10-10': 0.2832832832832833, 'ComplementNB_blog-100-50-10': 0.45845845845845845, 'MLPClassifier_blog-100-50-10': 0.3113113113113113}\n",
      "-------------------------- Case:blog-100-100-10 --------------------------------\n",
      "Now loading data and spliting\n",
      "./data/blog-100-100-10/train.csv\n"
     ]
    },
    {
     "name": "stderr",
     "output_type": "stream",
     "text": [
      "/usr/local/lib/python3.6/dist-packages/pandas/core/indexing.py:670: SettingWithCopyWarning: \n",
      "A value is trying to be set on a copy of a slice from a DataFrame\n",
      "\n",
      "See the caveats in the documentation: https://pandas.pydata.org/pandas-docs/stable/user_guide/indexing.html#returning-a-view-versus-a-copy\n",
      "  iloc._setitem_with_indexer(indexer, value)\n"
     ]
    },
    {
     "name": "stdout",
     "output_type": "stream",
     "text": [
      "Now training the model : ComplementNB\n",
      "Fitting 10 folds for each of 32 candidates, totalling 320 fits\n"
     ]
    },
    {
     "name": "stderr",
     "output_type": "stream",
     "text": [
      "[Parallel(n_jobs=-1)]: Using backend LokyBackend with 2 concurrent workers.\n",
      "[Parallel(n_jobs=-1)]: Done   1 tasks      | elapsed:    2.8s\n",
      "[Parallel(n_jobs=-1)]: Done   4 tasks      | elapsed:    5.6s\n",
      "[Parallel(n_jobs=-1)]: Done   9 tasks      | elapsed:   13.8s\n",
      "[Parallel(n_jobs=-1)]: Done  14 tasks      | elapsed:   19.3s\n",
      "[Parallel(n_jobs=-1)]: Done  21 tasks      | elapsed:   29.9s\n",
      "[Parallel(n_jobs=-1)]: Done  28 tasks      | elapsed:   38.6s\n",
      "[Parallel(n_jobs=-1)]: Done  37 tasks      | elapsed:   51.9s\n",
      "[Parallel(n_jobs=-1)]: Done  46 tasks      | elapsed:  1.1min\n",
      "[Parallel(n_jobs=-1)]: Done  57 tasks      | elapsed:  1.3min\n",
      "[Parallel(n_jobs=-1)]: Done  68 tasks      | elapsed:  1.6min\n",
      "[Parallel(n_jobs=-1)]: Done  81 tasks      | elapsed:  1.9min\n",
      "[Parallel(n_jobs=-1)]: Done  94 tasks      | elapsed:  2.2min\n",
      "[Parallel(n_jobs=-1)]: Done 109 tasks      | elapsed:  2.5min\n",
      "[Parallel(n_jobs=-1)]: Done 124 tasks      | elapsed:  2.8min\n",
      "[Parallel(n_jobs=-1)]: Done 141 tasks      | elapsed:  3.3min\n",
      "[Parallel(n_jobs=-1)]: Done 158 tasks      | elapsed:  3.6min\n",
      "[Parallel(n_jobs=-1)]: Done 177 tasks      | elapsed:  4.1min\n",
      "[Parallel(n_jobs=-1)]: Done 196 tasks      | elapsed:  4.5min\n",
      "[Parallel(n_jobs=-1)]: Done 217 tasks      | elapsed:  5.0min\n",
      "[Parallel(n_jobs=-1)]: Done 238 tasks      | elapsed:  5.5min\n",
      "[Parallel(n_jobs=-1)]: Done 261 tasks      | elapsed:  6.0min\n",
      "[Parallel(n_jobs=-1)]: Done 284 tasks      | elapsed:  6.5min\n",
      "[Parallel(n_jobs=-1)]: Done 309 tasks      | elapsed:  7.1min\n",
      "[Parallel(n_jobs=-1)]: Done 320 out of 320 | elapsed:  7.3min finished\n"
     ]
    },
    {
     "data": {
      "text/plain": [
       "{'model__alpha': 1, 'vect__max_features': 4000, 'vect__use_idf': False}"
      ]
     },
     "execution_count": 56,
     "metadata": {
      "tags": []
     },
     "output_type": "execute_result"
    },
    {
     "data": {
      "text/plain": [
       "['./result/ComplementNB_blog-100-100-10_gs.pkl']"
      ]
     },
     "execution_count": 56,
     "metadata": {
      "tags": []
     },
     "output_type": "execute_result"
    },
    {
     "data": {
      "text/plain": [
       "['./result/train_accuracy_score.pkl']"
      ]
     },
     "execution_count": 56,
     "metadata": {
      "tags": []
     },
     "output_type": "execute_result"
    },
    {
     "data": {
      "text/plain": [
       "['./result/testopen_accuracy_score.pkl']"
      ]
     },
     "execution_count": 56,
     "metadata": {
      "tags": []
     },
     "output_type": "execute_result"
    },
    {
     "name": "stdout",
     "output_type": "stream",
     "text": [
      "{'ComplementNB_blog-10-10-10': 0.9797979797979798, 'MLPClassifier_blog-10-10-10': 0.98989898989899, 'ComplementNB_blog-10-50-10': 0.9879759519038076, 'MLPClassifier_blog-10-50-10': 1.0, 'ComplementNB_blog-10-100-10': 0.97997997997998, 'MLPClassifier_blog-10-100-10': 0.998998998998999, 'ComplementNB_blog-50-10-10': 0.9859719438877755, 'MLPClassifier_blog-50-10-10': 0.9959919839679359, 'ComplementNB_blog-50-50-10': 0.9319727891156463, 'MLPClassifier_blog-50-50-10': 0.9959983993597439, 'ComplementNB_blog-50-100-10': 0.8767753550710142, 'MLPClassifier_blog-50-100-10': 0.9975995199039808, 'ComplementNB_blog-100-10-10': 0.984984984984985, 'MLPClassifier_blog-100-10-10': 0.997997997997998, 'ComplementNB_blog-100-50-10': 0.865373074614923, 'MLPClassifier_blog-100-50-10': 0.992998599719944, 'ComplementNB_blog-100-100-10': 0.7533753375337534}\n",
      "{'ComplementNB_blog-10-10-10': 0.7474747474747475, 'MLPClassifier_blog-10-10-10': 0.6262626262626263, 'ComplementNB_blog-10-50-10': 0.696969696969697, 'MLPClassifier_blog-10-50-10': 0.6363636363636364, 'ComplementNB_blog-10-100-10': 0.7777777777777778, 'MLPClassifier_blog-10-100-10': 0.7575757575757576, 'ComplementNB_blog-50-10-10': 0.5531062124248497, 'MLPClassifier_blog-50-10-10': 0.374749498997996, 'ComplementNB_blog-50-50-10': 0.591182364729459, 'MLPClassifier_blog-50-50-10': 0.4969939879759519, 'ComplementNB_blog-50-100-10': 0.5991983967935872, 'MLPClassifier_blog-50-100-10': 0.5230460921843687, 'ComplementNB_blog-100-10-10': 0.44244244244244246, 'MLPClassifier_blog-100-10-10': 0.2832832832832833, 'ComplementNB_blog-100-50-10': 0.45845845845845845, 'MLPClassifier_blog-100-50-10': 0.3113113113113113, 'ComplementNB_blog-100-100-10': 0.45645645645645644}\n",
      "Now training the model : MLPClassifier\n",
      "Fitting 10 folds for each of 12 candidates, totalling 120 fits\n"
     ]
    },
    {
     "name": "stderr",
     "output_type": "stream",
     "text": [
      "[Parallel(n_jobs=-1)]: Using backend LokyBackend with 2 concurrent workers.\n",
      "[Parallel(n_jobs=-1)]: Done   1 tasks      | elapsed:  2.4min\n",
      "[Parallel(n_jobs=-1)]: Done   4 tasks      | elapsed:  5.3min\n",
      "[Parallel(n_jobs=-1)]: Done   9 tasks      | elapsed: 11.4min\n",
      "[Parallel(n_jobs=-1)]: Done  14 tasks      | elapsed: 20.8min\n",
      "[Parallel(n_jobs=-1)]: Done  21 tasks      | elapsed: 30.2min\n",
      "[Parallel(n_jobs=-1)]: Done  28 tasks      | elapsed: 38.8min\n",
      "[Parallel(n_jobs=-1)]: Done  37 tasks      | elapsed: 51.6min\n",
      "[Parallel(n_jobs=-1)]: Done  46 tasks      | elapsed: 57.2min\n",
      "[Parallel(n_jobs=-1)]: Done  57 tasks      | elapsed: 60.6min\n",
      "[Parallel(n_jobs=-1)]: Done  68 tasks      | elapsed: 65.2min\n",
      "[Parallel(n_jobs=-1)]: Done  81 tasks      | elapsed: 71.7min\n",
      "[Parallel(n_jobs=-1)]: Done  94 tasks      | elapsed: 75.0min\n",
      "[Parallel(n_jobs=-1)]: Done 109 tasks      | elapsed: 80.6min\n",
      "[Parallel(n_jobs=-1)]: Done 120 out of 120 | elapsed: 85.1min finished\n"
     ]
    },
    {
     "data": {
      "text/plain": [
       "{'model__hidden_layer_sizes': (50, 50),\n",
       " 'model__learning_rate': 'constant',\n",
       " 'model__learning_rate_init': 0.01,\n",
       " 'model__max_iter': 2000,\n",
       " 'model__solver': 'adam',\n",
       " 'vect__max_features': 4000,\n",
       " 'vect__use_idf': True}"
      ]
     },
     "execution_count": 56,
     "metadata": {
      "tags": []
     },
     "output_type": "execute_result"
    },
    {
     "data": {
      "text/plain": [
       "['./result/MLPClassifier_blog-100-100-10_gs.pkl']"
      ]
     },
     "execution_count": 56,
     "metadata": {
      "tags": []
     },
     "output_type": "execute_result"
    },
    {
     "data": {
      "text/plain": [
       "['./result/train_accuracy_score.pkl']"
      ]
     },
     "execution_count": 56,
     "metadata": {
      "tags": []
     },
     "output_type": "execute_result"
    },
    {
     "data": {
      "text/plain": [
       "['./result/testopen_accuracy_score.pkl']"
      ]
     },
     "execution_count": 56,
     "metadata": {
      "tags": []
     },
     "output_type": "execute_result"
    },
    {
     "name": "stdout",
     "output_type": "stream",
     "text": [
      "{'ComplementNB_blog-10-10-10': 0.9797979797979798, 'MLPClassifier_blog-10-10-10': 0.98989898989899, 'ComplementNB_blog-10-50-10': 0.9879759519038076, 'MLPClassifier_blog-10-50-10': 1.0, 'ComplementNB_blog-10-100-10': 0.97997997997998, 'MLPClassifier_blog-10-100-10': 0.998998998998999, 'ComplementNB_blog-50-10-10': 0.9859719438877755, 'MLPClassifier_blog-50-10-10': 0.9959919839679359, 'ComplementNB_blog-50-50-10': 0.9319727891156463, 'MLPClassifier_blog-50-50-10': 0.9959983993597439, 'ComplementNB_blog-50-100-10': 0.8767753550710142, 'MLPClassifier_blog-50-100-10': 0.9975995199039808, 'ComplementNB_blog-100-10-10': 0.984984984984985, 'MLPClassifier_blog-100-10-10': 0.997997997997998, 'ComplementNB_blog-100-50-10': 0.865373074614923, 'MLPClassifier_blog-100-50-10': 0.992998599719944, 'ComplementNB_blog-100-100-10': 0.7533753375337534, 'MLPClassifier_blog-100-100-10': 0.9861986198619862}\n",
      "{'ComplementNB_blog-10-10-10': 0.7474747474747475, 'MLPClassifier_blog-10-10-10': 0.6262626262626263, 'ComplementNB_blog-10-50-10': 0.696969696969697, 'MLPClassifier_blog-10-50-10': 0.6363636363636364, 'ComplementNB_blog-10-100-10': 0.7777777777777778, 'MLPClassifier_blog-10-100-10': 0.7575757575757576, 'ComplementNB_blog-50-10-10': 0.5531062124248497, 'MLPClassifier_blog-50-10-10': 0.374749498997996, 'ComplementNB_blog-50-50-10': 0.591182364729459, 'MLPClassifier_blog-50-50-10': 0.4969939879759519, 'ComplementNB_blog-50-100-10': 0.5991983967935872, 'MLPClassifier_blog-50-100-10': 0.5230460921843687, 'ComplementNB_blog-100-10-10': 0.44244244244244246, 'MLPClassifier_blog-100-10-10': 0.2832832832832833, 'ComplementNB_blog-100-50-10': 0.45845845845845845, 'MLPClassifier_blog-100-50-10': 0.3113113113113113, 'ComplementNB_blog-100-100-10': 0.45645645645645644, 'MLPClassifier_blog-100-100-10': 0.35535535535535534}\n",
      "-------------------------- Case:blog-quiz --------------------------------\n",
      "Now loading data and spliting\n",
      "./data/blog-quiz/train.csv\n"
     ]
    },
    {
     "name": "stderr",
     "output_type": "stream",
     "text": [
      "/usr/local/lib/python3.6/dist-packages/pandas/core/indexing.py:670: SettingWithCopyWarning: \n",
      "A value is trying to be set on a copy of a slice from a DataFrame\n",
      "\n",
      "See the caveats in the documentation: https://pandas.pydata.org/pandas-docs/stable/user_guide/indexing.html#returning-a-view-versus-a-copy\n",
      "  iloc._setitem_with_indexer(indexer, value)\n"
     ]
    },
    {
     "name": "stdout",
     "output_type": "stream",
     "text": [
      "Now training the model : ComplementNB\n",
      "Fitting 10 folds for each of 32 candidates, totalling 320 fits\n"
     ]
    },
    {
     "name": "stderr",
     "output_type": "stream",
     "text": [
      "[Parallel(n_jobs=-1)]: Using backend LokyBackend with 2 concurrent workers.\n",
      "[Parallel(n_jobs=-1)]: Done   1 tasks      | elapsed:    0.3s\n",
      "[Parallel(n_jobs=-1)]: Done   4 tasks      | elapsed:    0.7s\n",
      "[Parallel(n_jobs=-1)]: Done   9 tasks      | elapsed:    1.6s\n",
      "[Parallel(n_jobs=-1)]: Done  14 tasks      | elapsed:    2.3s\n",
      "[Parallel(n_jobs=-1)]: Done  21 tasks      | elapsed:    3.5s\n",
      "[Parallel(n_jobs=-1)]: Done  28 tasks      | elapsed:    4.5s\n",
      "[Parallel(n_jobs=-1)]: Done  37 tasks      | elapsed:    6.1s\n",
      "[Parallel(n_jobs=-1)]: Done  46 tasks      | elapsed:    7.5s\n",
      "[Parallel(n_jobs=-1)]: Done  57 tasks      | elapsed:    9.2s\n",
      "[Parallel(n_jobs=-1)]: Done  68 tasks      | elapsed:   10.8s\n",
      "[Parallel(n_jobs=-1)]: Done  81 tasks      | elapsed:   13.0s\n",
      "[Parallel(n_jobs=-1)]: Done  94 tasks      | elapsed:   14.9s\n",
      "[Parallel(n_jobs=-1)]: Done 109 tasks      | elapsed:   17.3s\n",
      "[Parallel(n_jobs=-1)]: Done 124 tasks      | elapsed:   19.5s\n",
      "[Parallel(n_jobs=-1)]: Done 141 tasks      | elapsed:   22.2s\n",
      "[Parallel(n_jobs=-1)]: Done 158 tasks      | elapsed:   24.8s\n",
      "[Parallel(n_jobs=-1)]: Done 177 tasks      | elapsed:   27.8s\n",
      "[Parallel(n_jobs=-1)]: Done 196 tasks      | elapsed:   30.6s\n",
      "[Parallel(n_jobs=-1)]: Done 217 tasks      | elapsed:   34.0s\n",
      "[Parallel(n_jobs=-1)]: Done 238 tasks      | elapsed:   37.3s\n",
      "[Parallel(n_jobs=-1)]: Done 261 tasks      | elapsed:   41.0s\n",
      "[Parallel(n_jobs=-1)]: Done 284 tasks      | elapsed:   44.4s\n",
      "[Parallel(n_jobs=-1)]: Done 309 tasks      | elapsed:   48.6s\n",
      "[Parallel(n_jobs=-1)]: Done 320 out of 320 | elapsed:   50.1s finished\n"
     ]
    },
    {
     "data": {
      "text/plain": [
       "{'model__alpha': 0.5, 'vect__max_features': 4000, 'vect__use_idf': True}"
      ]
     },
     "execution_count": 56,
     "metadata": {
      "tags": []
     },
     "output_type": "execute_result"
    },
    {
     "data": {
      "text/plain": [
       "['./result/ComplementNB_blog-quiz_gs.pkl']"
      ]
     },
     "execution_count": 56,
     "metadata": {
      "tags": []
     },
     "output_type": "execute_result"
    },
    {
     "data": {
      "text/plain": [
       "['./result/train_accuracy_score.pkl']"
      ]
     },
     "execution_count": 56,
     "metadata": {
      "tags": []
     },
     "output_type": "execute_result"
    },
    {
     "data": {
      "text/plain": [
       "['./result/testopen_accuracy_score.pkl']"
      ]
     },
     "execution_count": 56,
     "metadata": {
      "tags": []
     },
     "output_type": "execute_result"
    },
    {
     "name": "stdout",
     "output_type": "stream",
     "text": [
      "{'ComplementNB_blog-10-10-10': 0.9797979797979798, 'MLPClassifier_blog-10-10-10': 0.98989898989899, 'ComplementNB_blog-10-50-10': 0.9879759519038076, 'MLPClassifier_blog-10-50-10': 1.0, 'ComplementNB_blog-10-100-10': 0.97997997997998, 'MLPClassifier_blog-10-100-10': 0.998998998998999, 'ComplementNB_blog-50-10-10': 0.9859719438877755, 'MLPClassifier_blog-50-10-10': 0.9959919839679359, 'ComplementNB_blog-50-50-10': 0.9319727891156463, 'MLPClassifier_blog-50-50-10': 0.9959983993597439, 'ComplementNB_blog-50-100-10': 0.8767753550710142, 'MLPClassifier_blog-50-100-10': 0.9975995199039808, 'ComplementNB_blog-100-10-10': 0.984984984984985, 'MLPClassifier_blog-100-10-10': 0.997997997997998, 'ComplementNB_blog-100-50-10': 0.865373074614923, 'MLPClassifier_blog-100-50-10': 0.992998599719944, 'ComplementNB_blog-100-100-10': 0.7533753375337534, 'MLPClassifier_blog-100-100-10': 0.9861986198619862, 'ComplementNB_blog-quiz': 0.985985985985986}\n",
      "{'ComplementNB_blog-10-10-10': 0.7474747474747475, 'MLPClassifier_blog-10-10-10': 0.6262626262626263, 'ComplementNB_blog-10-50-10': 0.696969696969697, 'MLPClassifier_blog-10-50-10': 0.6363636363636364, 'ComplementNB_blog-10-100-10': 0.7777777777777778, 'MLPClassifier_blog-10-100-10': 0.7575757575757576, 'ComplementNB_blog-50-10-10': 0.5531062124248497, 'MLPClassifier_blog-50-10-10': 0.374749498997996, 'ComplementNB_blog-50-50-10': 0.591182364729459, 'MLPClassifier_blog-50-50-10': 0.4969939879759519, 'ComplementNB_blog-50-100-10': 0.5991983967935872, 'MLPClassifier_blog-50-100-10': 0.5230460921843687, 'ComplementNB_blog-100-10-10': 0.44244244244244246, 'MLPClassifier_blog-100-10-10': 0.2832832832832833, 'ComplementNB_blog-100-50-10': 0.45845845845845845, 'MLPClassifier_blog-100-50-10': 0.3113113113113113, 'ComplementNB_blog-100-100-10': 0.45645645645645644, 'MLPClassifier_blog-100-100-10': 0.35535535535535534, 'ComplementNB_blog-quiz': 0.0}\n",
      "Now training the model : MLPClassifier\n",
      "Fitting 10 folds for each of 12 candidates, totalling 120 fits\n"
     ]
    },
    {
     "name": "stderr",
     "output_type": "stream",
     "text": [
      "[Parallel(n_jobs=-1)]: Using backend LokyBackend with 2 concurrent workers.\n",
      "[Parallel(n_jobs=-1)]: Done   1 tasks      | elapsed:    8.8s\n",
      "[Parallel(n_jobs=-1)]: Done   4 tasks      | elapsed:   18.3s\n",
      "[Parallel(n_jobs=-1)]: Done   9 tasks      | elapsed:   45.8s\n",
      "[Parallel(n_jobs=-1)]: Done  14 tasks      | elapsed:  1.2min\n",
      "[Parallel(n_jobs=-1)]: Done  21 tasks      | elapsed:  1.9min\n",
      "[Parallel(n_jobs=-1)]: Done  28 tasks      | elapsed:  2.7min\n",
      "[Parallel(n_jobs=-1)]: Done  37 tasks      | elapsed:  3.8min\n",
      "[Parallel(n_jobs=-1)]: Done  46 tasks      | elapsed:  4.4min\n",
      "[Parallel(n_jobs=-1)]: Done  57 tasks      | elapsed:  4.6min\n",
      "[Parallel(n_jobs=-1)]: Done  68 tasks      | elapsed:  4.9min\n",
      "[Parallel(n_jobs=-1)]: Done  81 tasks      | elapsed:  5.4min\n",
      "[Parallel(n_jobs=-1)]: Done  94 tasks      | elapsed:  5.6min\n",
      "[Parallel(n_jobs=-1)]: Done 109 tasks      | elapsed:  6.3min\n",
      "[Parallel(n_jobs=-1)]: Done 120 out of 120 | elapsed:  7.2min finished\n"
     ]
    },
    {
     "data": {
      "text/plain": [
       "{'model__hidden_layer_sizes': (50, 50),\n",
       " 'model__learning_rate': 'constant',\n",
       " 'model__learning_rate_init': 0.001,\n",
       " 'model__max_iter': 2000,\n",
       " 'model__solver': 'adam',\n",
       " 'vect__max_features': 4000,\n",
       " 'vect__use_idf': True}"
      ]
     },
     "execution_count": 56,
     "metadata": {
      "tags": []
     },
     "output_type": "execute_result"
    },
    {
     "data": {
      "text/plain": [
       "['./result/MLPClassifier_blog-quiz_gs.pkl']"
      ]
     },
     "execution_count": 56,
     "metadata": {
      "tags": []
     },
     "output_type": "execute_result"
    },
    {
     "data": {
      "text/plain": [
       "['./result/train_accuracy_score.pkl']"
      ]
     },
     "execution_count": 56,
     "metadata": {
      "tags": []
     },
     "output_type": "execute_result"
    },
    {
     "data": {
      "text/plain": [
       "['./result/testopen_accuracy_score.pkl']"
      ]
     },
     "execution_count": 56,
     "metadata": {
      "tags": []
     },
     "output_type": "execute_result"
    },
    {
     "name": "stdout",
     "output_type": "stream",
     "text": [
      "{'ComplementNB_blog-10-10-10': 0.9797979797979798, 'MLPClassifier_blog-10-10-10': 0.98989898989899, 'ComplementNB_blog-10-50-10': 0.9879759519038076, 'MLPClassifier_blog-10-50-10': 1.0, 'ComplementNB_blog-10-100-10': 0.97997997997998, 'MLPClassifier_blog-10-100-10': 0.998998998998999, 'ComplementNB_blog-50-10-10': 0.9859719438877755, 'MLPClassifier_blog-50-10-10': 0.9959919839679359, 'ComplementNB_blog-50-50-10': 0.9319727891156463, 'MLPClassifier_blog-50-50-10': 0.9959983993597439, 'ComplementNB_blog-50-100-10': 0.8767753550710142, 'MLPClassifier_blog-50-100-10': 0.9975995199039808, 'ComplementNB_blog-100-10-10': 0.984984984984985, 'MLPClassifier_blog-100-10-10': 0.997997997997998, 'ComplementNB_blog-100-50-10': 0.865373074614923, 'MLPClassifier_blog-100-50-10': 0.992998599719944, 'ComplementNB_blog-100-100-10': 0.7533753375337534, 'MLPClassifier_blog-100-100-10': 0.9861986198619862, 'ComplementNB_blog-quiz': 0.985985985985986, 'MLPClassifier_blog-quiz': 0.996996996996997}\n",
      "{'ComplementNB_blog-10-10-10': 0.7474747474747475, 'MLPClassifier_blog-10-10-10': 0.6262626262626263, 'ComplementNB_blog-10-50-10': 0.696969696969697, 'MLPClassifier_blog-10-50-10': 0.6363636363636364, 'ComplementNB_blog-10-100-10': 0.7777777777777778, 'MLPClassifier_blog-10-100-10': 0.7575757575757576, 'ComplementNB_blog-50-10-10': 0.5531062124248497, 'MLPClassifier_blog-50-10-10': 0.374749498997996, 'ComplementNB_blog-50-50-10': 0.591182364729459, 'MLPClassifier_blog-50-50-10': 0.4969939879759519, 'ComplementNB_blog-50-100-10': 0.5991983967935872, 'MLPClassifier_blog-50-100-10': 0.5230460921843687, 'ComplementNB_blog-100-10-10': 0.44244244244244246, 'MLPClassifier_blog-100-10-10': 0.2832832832832833, 'ComplementNB_blog-100-50-10': 0.45845845845845845, 'MLPClassifier_blog-100-50-10': 0.3113113113113113, 'ComplementNB_blog-100-100-10': 0.45645645645645644, 'MLPClassifier_blog-100-100-10': 0.35535535535535534, 'ComplementNB_blog-quiz': 0.0, 'MLPClassifier_blog-quiz': 0.0}\n"
     ]
    }
   ],
   "source": [
    "from train_model import get_best_model, load_data, print_scores\n",
    "from sklearn.metrics import accuracy_score\n",
    "from sklearn.metrics import f1_score\n",
    "from sklearn.metrics import average_precision_score\n",
    "from sklearn.metrics import recall_score\n",
    "from sklearn.metrics import classification_report\n",
    "from sklearn.metrics import confusion_matrix, plot_confusion_matrix\n",
    "from sklearn.externals import joblib\n",
    "# import logging\n",
    "\n",
    "result_folder = './result/'\n",
    "# train_accuracy_score = {}\n",
    "# testopen_accuracy_score = {}\n",
    "train_accuracy_score = joblib.load(result_folder + 'train_accuracy_score.pkl', mmap_mode=None)\n",
    "testopen_accuracy_score = joblib.load(result_folder + 'testopen_accuracy_score.pkl', mmap_mode=None)\n",
    "for case in list_of_cases:\n",
    "    print('-------------------------- Case:' + case + ' --------------------------------')\n",
    "    train_set_name = \"./data/\"  + case + \"/train.csv\"\n",
    "    testopen_set_name = \"./data/\" + case + \"/test-open.csv\"\n",
    "    testclose_set_name = \"./data/\" + case + \"/test-closed.csv\"\n",
    "    \n",
    "    i=0\n",
    "    X_train, y_train, X_test, y_test = load_data(train_set_name, testopen_set_name, testclose_set_name)\n",
    "\n",
    "    for i, model  in enumerate(models):\n",
    "        # model = models[i]\n",
    "        best_params_, gs, model_prediction, train_score, test_score = get_best_model(model,params[model.__name__],X_train, y_train, X_test, y_test)\n",
    "        best_params_\n",
    "        # print(classification_report(y_test, model_prediction))\n",
    "        # plot_confusion_matrix(gs, X_test, y_test, cmap='Blues', values_format='d')\n",
    "        train_accuracy_score[model.__name__ + '_' + case] = accuracy_score(y_train, gs.predict(X_train))\n",
    "        testopen_accuracy_score[model.__name__ + '_' + case] = accuracy_score(y_test, gs.predict(X_test))\n",
    "        # testclose_accuracy_score[case + '_' + model] = accuracy_score(y_test, gs.predict(X_test))\n",
    "        joblib.dump(gs, result_folder + model.__name__ + '_' + case +'_gs.pkl')\n",
    "        joblib.dump(train_accuracy_score, result_folder + 'train_accuracy_score.pkl')\n",
    "        joblib.dump(testopen_accuracy_score, result_folder + 'testopen_accuracy_score.pkl')\n",
    "\n",
    "\n",
    "        print(train_accuracy_score)\n",
    "        print(testopen_accuracy_score)\n"
   ]
  },
  {
   "cell_type": "markdown",
   "metadata": {
    "id": "edY49QUB-UwA"
   },
   "source": [
    "# GridSearch pour un modele en particulier"
   ]
  },
  {
   "cell_type": "code",
   "execution_count": null,
   "metadata": {
    "id": "87ik3tDStCNo"
   },
   "outputs": [],
   "source": [
    "from train_model import get_best_model, load_data, print_scores\n",
    "from sklearn.metrics import accuracy_score\n",
    "from sklearn.metrics import f1_score\n",
    "from sklearn.metrics import average_precision_score\n",
    "from sklearn.metrics import recall_score\n",
    "from sklearn.metrics import classification_report\n",
    "from sklearn.metrics import confusion_matrix, plot_confusion_matrix\n",
    "from sklearn.externals import joblib\n",
    "\n",
    "from sklearn.naive_bayes import ComplementNB\n",
    "from sklearn.naive_bayes import MultinomialNB\n",
    "from sklearn.feature_extraction.text import TfidfVectorizer\n",
    "from sklearn.neural_network import MLPClassifier\n",
    "from xgboost import XGBClassifier\n",
    "from sklearn.model_selection import cross_val_score, train_test_split, GridSearchCV\n",
    "from sklearn.pipeline import Pipeline\n",
    "\n",
    "\n",
    "# model= ComplementNB\n",
    "# param = {\n",
    "# # 'vect__use_idf': [True],\n",
    "# # 'vect__max_features': [1000],\n",
    "# 'model__alpha':  [0.009],\n",
    "#     }\n",
    "model = MLPClassifier\n",
    "param = {\n",
    "'vect__max_features': [4000],\n",
    "'model__hidden_layer_sizes':  [(200,200)],\n",
    "'model__solver':  ['adam'],\n",
    "'model__learning_rate' : ['constant'], \n",
    "'model__learning_rate_init' :  [0.001, 0.01,0.1],\n",
    "'model__max_iter' : [2000],\n",
    "    }\n",
    "\n",
    "\n",
    "case = 'blog-10-10-10'\n",
    "\n",
    "train_set_name = \"./data/\"  + case + \"/train.csv\"\n",
    "testopen_set_name = \"./data/\" + case + \"/test-open.csv\"\n",
    "testclose_set_name = \"./data/\" + case + \"/test-closed.csv\"\n",
    "    \n",
    "X_train, y_train, X_test, y_test = load_data(train_set_name, testopen_set_name, testclose_set_name)\n",
    "\n",
    "pipe = Pipeline([\n",
    "        ('vect', vectorizer()),\n",
    "        # ('scaler', MaxAbsScaler()),\n",
    "        # ('scaler', StandardScaler()),\n",
    "        ('model', model())\n",
    "    ])\n",
    "gs = GridSearchCV(pipe,  # what object are we optimizing?\n",
    "                      param_grid=param,  # what parameters values are we searching?\n",
    "                      cv=10,\n",
    "                      scoring='accuracy', verbose=10,\n",
    "                      n_jobs=-1)  # 5-fold cross-validation.\n",
    "# gs=model(alpha=0.009)\n",
    "# gs.fit(X_train, y_train)\n",
    "\n",
    "train_accuracy_s= accuracy_score(y_train, gs.predict(X_train))\n",
    "testopen_accuracy_s= accuracy_score(y_test, gs.predict(X_test))\n",
    "print(train_accuracy_s)\n",
    "print(testopen_accuracy_s)"
   ]
  },
  {
   "cell_type": "markdown",
   "metadata": {
    "id": "kZBXlKE5-jJx"
   },
   "source": [
    "# Estimation des modele avec le meiulleurs parametres du gridsearch"
   ]
  },
  {
   "cell_type": "code",
   "execution_count": 103,
   "metadata": {
    "colab": {
     "base_uri": "https://localhost:8080/"
    },
    "executionInfo": {
     "elapsed": 4016,
     "status": "ok",
     "timestamp": 1604719323555,
     "user": {
      "displayName": "Bassirou Ndao",
      "photoUrl": "",
      "userId": "02888319539859274497"
     },
     "user_tz": 300
    },
    "id": "30ynG9YMhGoJ",
    "outputId": "8361461b-2dcf-4a68-b65d-66027a3ae3ac"
   },
   "outputs": [
    {
     "name": "stdout",
     "output_type": "stream",
     "text": [
      "-------------------------- Case:blog-50-10-10 --------------------------------\n"
     ]
    },
    {
     "name": "stderr",
     "output_type": "stream",
     "text": [
      "/usr/local/lib/python3.6/dist-packages/pandas/core/indexing.py:670: SettingWithCopyWarning: \n",
      "A value is trying to be set on a copy of a slice from a DataFrame\n",
      "\n",
      "See the caveats in the documentation: https://pandas.pydata.org/pandas-docs/stable/user_guide/indexing.html#returning-a-view-versus-a-copy\n",
      "  iloc._setitem_with_indexer(indexer, value)\n"
     ]
    },
    {
     "name": "stdout",
     "output_type": "stream",
     "text": [
      "ComplementNB\n",
      "{'alpha': 0.1}\n",
      "{'max_features': 4000, 'use_idf': False}\n"
     ]
    },
    {
     "data": {
      "text/plain": [
       "ComplementNB(alpha=0.1, class_prior=None, fit_prior=True, norm=False)"
      ]
     },
     "execution_count": 103,
     "metadata": {
      "tags": []
     },
     "output_type": "execute_result"
    },
    {
     "data": {
      "text/plain": [
       "ComplementNB(alpha=0.1, class_prior=None, fit_prior=True, norm=False)"
      ]
     },
     "execution_count": 103,
     "metadata": {
      "tags": []
     },
     "output_type": "execute_result"
    },
    {
     "data": {
      "text/plain": [
       "['./final_result/ComplementNB_blog-50-10-10_m.pkl']"
      ]
     },
     "execution_count": 103,
     "metadata": {
      "tags": []
     },
     "output_type": "execute_result"
    },
    {
     "data": {
      "text/plain": [
       "['./final_result/train_accuracy_model.pkl']"
      ]
     },
     "execution_count": 103,
     "metadata": {
      "tags": []
     },
     "output_type": "execute_result"
    },
    {
     "data": {
      "text/plain": [
       "['./final_result/testopen_accuracy_model.pkl']"
      ]
     },
     "execution_count": 103,
     "metadata": {
      "tags": []
     },
     "output_type": "execute_result"
    },
    {
     "name": "stdout",
     "output_type": "stream",
     "text": [
      "{'ComplementNB_blog-50-10-10': 1.0}\n",
      "{'ComplementNB_blog-50-10-10': 0.3687374749498998}\n"
     ]
    }
   ],
   "source": [
    "from train_model_vect import get_best_model, load_data, print_scores\n",
    "from sklearn.metrics import accuracy_score\n",
    "from sklearn.metrics import f1_score\n",
    "from sklearn.metrics import average_precision_score\n",
    "from sklearn.metrics import recall_score\n",
    "from sklearn.metrics import classification_report\n",
    "from sklearn.metrics import confusion_matrix, plot_confusion_matrix\n",
    "from sklearn.externals import joblib\n",
    "import re\n",
    "# import logging\n",
    "\n",
    "result_folder = './result/'\n",
    "\n",
    "list_of_cases = ['blog-50-10-10']\n",
    "train_accuracy_score = {}\n",
    "testopen_accuracy_score = {}\n",
    "for case in list_of_cases:\n",
    "    print('-------------------------- Case:' + case + ' --------------------------------')\n",
    "    train_set_name = \"./data/\"  + case + \"/train.csv\"\n",
    "    testopen_set_name = \"./data/\" + case + \"/test-open.csv\"\n",
    "    testclose_set_name = \"./data/\" + case + \"/test-closed.csv\"\n",
    "    \n",
    "    i=0\n",
    "    X_train, y_train, X_test, y_test = load_data(train_set_name, testopen_set_name, testclose_set_name)\n",
    "\n",
    "    for i, model  in enumerate(models):\n",
    "        model_param = {}\n",
    "        vect_param = {}\n",
    "        gs_reload = joblib.load(result_folder + model.__name__ + '_' + case +'_gs.pkl', mmap_mode=None)\n",
    "        # print(gs_reload.best_params_)\n",
    "\n",
    "        for key, value in gs_reload.best_params_.items():\n",
    "            if \"model\" in key:\n",
    "                new_key = re.sub('model__','',key)\n",
    "                # value =  (200, 200,200) if new_key =='hidden_layer_sizes' else value\n",
    "                model_param[new_key] = value\n",
    "            if \"vect\" in key:\n",
    "                new_key = re.sub('vect__','',key)\n",
    "                vect_param[new_key] = value\n",
    "        print(model.__name__)\n",
    "        print(model_param)\n",
    "        print(vect_param)\n",
    "\n",
    "        m=model(**model_param)\n",
    "        m.fit(X_train, y_train)\n",
    "        m\n",
    "\n",
    "        train_accuracy_score[model.__name__ + '_' + case] = accuracy_score(y_train, m.predict(X_train))\n",
    "        testopen_accuracy_score[model.__name__ + '_' + case] = accuracy_score(y_test, m.predict(X_test))\n",
    "\n",
    "        joblib.dump(m, './final_result/' + model.__name__ + '_' + case +'_m.pkl')\n",
    "        joblib.dump(train_accuracy_score,'./final_result/' + 'train_accuracy_model.pkl')\n",
    "        joblib.dump(testopen_accuracy_score,'./final_result/' + 'testopen_accuracy_model.pkl')\n",
    "\n",
    "\n",
    "        print(train_accuracy_score)\n",
    "        print(testopen_accuracy_score)\n",
    "\n",
    "\n",
    "\n"
   ]
  },
  {
   "cell_type": "markdown",
   "metadata": {
    "id": "7gwSmVFD-v2u"
   },
   "source": [
    "# Novelty and Outlier Detection"
   ]
  },
  {
   "cell_type": "code",
   "execution_count": null,
   "metadata": {
    "id": "LIUE5fYkpntx"
   },
   "outputs": [],
   "source": [
    "case\n",
    "from sklearn.neighbors import LocalOutlierFactor\n",
    "\n",
    "lof = LocalOutlierFactor(novelty=True, n_neighbors = 10, contamination  = 0.0005)\n",
    "lof.fit(X_train)\n",
    "# lof.decision_function(X_test)\n",
    "lof.predict(X_test)\n",
    "# lof.score_samples(X_test)"
   ]
  }
 ],
 "metadata": {
  "accelerator": "TPU",
  "colab": {
   "collapsed_sections": [],
   "name": "devoir6_bass.ipynb",
   "provenance": []
  },
  "kernelspec": {
   "display_name": "Python 3",
   "language": "python",
   "name": "python3"
  },
  "language_info": {
   "codemirror_mode": {
    "name": "ipython",
    "version": 3
   },
   "file_extension": ".py",
   "mimetype": "text/x-python",
   "name": "python",
   "nbconvert_exporter": "python",
   "pygments_lexer": "ipython3",
   "version": "3.7.9"
  }
 },
 "nbformat": 4,
 "nbformat_minor": 1
}
